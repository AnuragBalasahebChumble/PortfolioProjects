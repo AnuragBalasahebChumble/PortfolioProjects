{
  "nbformat": 4,
  "nbformat_minor": 0,
  "metadata": {
    "colab": {
      "name": "WebScrappingFromGithubPage.ipynb",
      "provenance": [],
      "collapsed_sections": [
        "Nv7F1Rz6ShgY"
      ],
      "authorship_tag": "ABX9TyONAACoMCcRfsk0amVzZ2mL",
      "include_colab_link": true
    },
    "kernelspec": {
      "name": "python3",
      "display_name": "Python 3"
    },
    "language_info": {
      "name": "python"
    }
  },
  "cells": [
    {
      "cell_type": "markdown",
      "metadata": {
        "id": "view-in-github",
        "colab_type": "text"
      },
      "source": [
        "<a href=\"https://colab.research.google.com/github/AnuragBalasahebChumble/PortfolioProjects/blob/main/WebScrappingFromGithubPage.ipynb\" target=\"_parent\"><img src=\"https://colab.research.google.com/assets/colab-badge.svg\" alt=\"Open In Colab\"/></a>"
      ]
    },
    {
      "cell_type": "markdown",
      "source": [
        "# Scrapping-github-topics-repositories\n",
        "\n"
      ],
      "metadata": {
        "id": "gSX61Av2ytNV"
      }
    },
    {
      "cell_type": "markdown",
      "source": [
        "##Pick a website and descirbe the objective.\n",
        "- Pick the website from which we want to scrape information/data.\n",
        "- Identify the information that we want to scrape."
      ],
      "metadata": {
        "id": "BT7Aj-s4zUYB"
      }
    },
    {
      "cell_type": "markdown",
      "source": [
        "### Project approach\n",
        "1. We are going to scrape the page here:\n",
        "https://github.com/topics\n",
        "\n",
        "2. We'll get the list of topics. Then for each topic we'll get i)topic tittle, ii)topic page URL, iii)topic description.\n",
        "\n",
        "3. For each topic we'll try to get top 25 repositories in the topic from the topic page.\n",
        "\n",
        "4. For each repository we'll fetch the i)repo name, ii)username, iii)stars, iv)repo URL\n",
        "\n",
        "5. For each topic we'll create CSV file in the following format.\n",
        "```\n",
        "RepoName, UserName, Stars, RepoURL\n",
        "```"
      ],
      "metadata": {
        "id": "l3F18HgG1P6O"
      }
    },
    {
      "cell_type": "code",
      "source": [
        ""
      ],
      "metadata": {
        "id": "2HMocHIH0GiG"
      },
      "execution_count": null,
      "outputs": []
    },
    {
      "cell_type": "markdown",
      "source": [
        "## Use the request library to download the webpage."
      ],
      "metadata": {
        "id": "sv4xOqW40H4g"
      }
    },
    {
      "cell_type": "code",
      "source": [
        "!pip install requests --quiet"
      ],
      "metadata": {
        "id": "GyrE3Xpq0Xmp"
      },
      "execution_count": null,
      "outputs": []
    },
    {
      "cell_type": "code",
      "source": [
        "import requests"
      ],
      "metadata": {
        "id": "m2_L-UOM0YY3"
      },
      "execution_count": null,
      "outputs": []
    },
    {
      "cell_type": "code",
      "source": [
        "topics_url = 'https://github.com/topics'"
      ],
      "metadata": {
        "id": "1lQeIhAA0YbT"
      },
      "execution_count": null,
      "outputs": []
    },
    {
      "cell_type": "code",
      "source": [
        "response = requests.get(topics_url)"
      ],
      "metadata": {
        "id": "1xk7T8Le0Yd6"
      },
      "execution_count": null,
      "outputs": []
    },
    {
      "cell_type": "code",
      "source": [
        "type(response)"
      ],
      "metadata": {
        "colab": {
          "base_uri": "https://localhost:8080/"
        },
        "id": "XadmFQ8WuTa4",
        "outputId": "64acf625-4fc6-4130-f2f5-82f5cd18bb6a"
      },
      "execution_count": null,
      "outputs": [
        {
          "output_type": "execute_result",
          "data": {
            "text/plain": [
              "requests.models.Response"
            ]
          },
          "metadata": {},
          "execution_count": 5
        }
      ]
    },
    {
      "cell_type": "code",
      "source": [
        "response.status_code"
      ],
      "metadata": {
        "colab": {
          "base_uri": "https://localhost:8080/"
        },
        "id": "xlVp3GJjuGJK",
        "outputId": "1541f6ca-458c-4336-b253-6177cc331665"
      },
      "execution_count": null,
      "outputs": [
        {
          "output_type": "execute_result",
          "data": {
            "text/plain": [
              "200"
            ]
          },
          "metadata": {},
          "execution_count": 6
        }
      ]
    },
    {
      "cell_type": "markdown",
      "source": [
        "###HTTPS status code response:\n",
        "let's check with the status code, if between 200to 299, than it means success.\n",
        "\n",
        "1. Informational responses (100–199)\n",
        "2. Successful responses (200–299)\n",
        "3. Redirection messages (300–399)\n",
        "4. Client error responses (400–499)\n",
        "5. Server error responses (500–599)"
      ],
      "metadata": {
        "id": "xu42DMhOuLTb"
      }
    },
    {
      "cell_type": "markdown",
      "source": [
        "```So, our request was a success.```"
      ],
      "metadata": {
        "id": "8DkDQM_NvrcH"
      }
    },
    {
      "cell_type": "code",
      "source": [
        "len(response.text)"
      ],
      "metadata": {
        "colab": {
          "base_uri": "https://localhost:8080/"
        },
        "id": "V-9mUeqguGVR",
        "outputId": "4851f8f5-38e7-4336-f0f2-aa079231bb11"
      },
      "execution_count": null,
      "outputs": [
        {
          "output_type": "execute_result",
          "data": {
            "text/plain": [
              "142102"
            ]
          },
          "metadata": {},
          "execution_count": 7
        }
      ]
    },
    {
      "cell_type": "markdown",
      "source": [
        "```\n",
        "- The output tell's us that there are 1,42,040 Charachters.\n",
        "```\n"
      ],
      "metadata": {
        "id": "T6sO9aQIwYfl"
      }
    },
    {
      "cell_type": "code",
      "source": [
        "page_contents = response.text"
      ],
      "metadata": {
        "id": "7rdjO-i-yTGi"
      },
      "execution_count": null,
      "outputs": []
    },
    {
      "cell_type": "code",
      "source": [
        "page_contents[:300]"
      ],
      "metadata": {
        "colab": {
          "base_uri": "https://localhost:8080/",
          "height": 87
        },
        "id": "3w59uVIlyTU5",
        "outputId": "96f94c0b-3315-42ac-d630-b187b8fd8cce"
      },
      "execution_count": null,
      "outputs": [
        {
          "output_type": "execute_result",
          "data": {
            "text/plain": [
              "'\\n\\n<!DOCTYPE html>\\n<html lang=\"en\" data-color-mode=\"auto\" data-light-theme=\"light\" data-dark-theme=\"dark\" data-a11y-animated-images=\"system\">\\n  <head>\\n    <meta charset=\"utf-8\">\\n  <link rel=\"dns-prefetch\" href=\"https://github.githubassets.com\">\\n  <link rel=\"dns-prefetch\" href=\"https://avatars.githubu'"
            ],
            "application/vnd.google.colaboratory.intrinsic+json": {
              "type": "string"
            }
          },
          "metadata": {},
          "execution_count": 9
        }
      ]
    },
    {
      "cell_type": "markdown",
      "source": [
        "```\n",
        "this is how the web page contents looks like. It is an HTML code.\n",
        "```"
      ],
      "metadata": {
        "id": "jklAnXvqyiEK"
      }
    },
    {
      "cell_type": "markdown",
      "source": [
        "## Use Beautiful Soup to parse and extract information. "
      ],
      "metadata": {
        "id": "RclgEsCi0cGO"
      }
    },
    {
      "cell_type": "code",
      "source": [
        "!pip install beautifulsoup4 --quiet "
      ],
      "metadata": {
        "id": "6yc3s1UU0leA"
      },
      "execution_count": null,
      "outputs": []
    },
    {
      "cell_type": "code",
      "source": [
        "from bs4 import BeautifulSoup"
      ],
      "metadata": {
        "id": "A-afMb4L0rB_"
      },
      "execution_count": null,
      "outputs": []
    },
    {
      "cell_type": "markdown",
      "source": [
        "```\n",
        "module name is bs4 and from that we are importing BeautifulSoup class.\n",
        "```"
      ],
      "metadata": {
        "id": "NM-18dgr7CHD"
      }
    },
    {
      "cell_type": "code",
      "source": [
        "doc = BeautifulSoup(page_contents, 'html.parser')"
      ],
      "metadata": {
        "id": "13etV8Mk0rK-"
      },
      "execution_count": null,
      "outputs": []
    },
    {
      "cell_type": "code",
      "source": [
        "type(doc)"
      ],
      "metadata": {
        "colab": {
          "base_uri": "https://localhost:8080/"
        },
        "id": "7e0FuSOa0rT-",
        "outputId": "43e29b91-02a4-4eab-9d26-4ab60833b939"
      },
      "execution_count": null,
      "outputs": [
        {
          "output_type": "execute_result",
          "data": {
            "text/plain": [
              "bs4.BeautifulSoup"
            ]
          },
          "metadata": {},
          "execution_count": 13
        }
      ]
    },
    {
      "cell_type": "markdown",
      "source": [
        "```\n",
        "- Doc variable contains all the HTML code in the parsed format. It is a BeautifulSoup object.\n",
        "- Now, we can acutally find the things by querying this BeautifulSoup object or doc variable.\n",
        "```"
      ],
      "metadata": {
        "id": "__jLZ9RD8J9q"
      }
    },
    {
      "cell_type": "markdown",
      "source": [
        "### Let's fetch the topic titles from the page."
      ],
      "metadata": {
        "id": "ar_jvgnPYP93"
      }
    },
    {
      "cell_type": "code",
      "source": [
        "\n",
        "topic_title_tags = doc.find_all('p', {'class':\"f3 lh-condensed mb-0 mt-1 Link--primary\"})"
      ],
      "metadata": {
        "id": "TAkioHRi8m8X"
      },
      "execution_count": null,
      "outputs": []
    },
    {
      "cell_type": "code",
      "source": [
        "len(topic_title_tags)"
      ],
      "metadata": {
        "colab": {
          "base_uri": "https://localhost:8080/"
        },
        "id": "D81mEc6JBB4B",
        "outputId": "6416345c-7989-4cb8-fc71-0dc0dc580b45"
      },
      "execution_count": null,
      "outputs": [
        {
          "output_type": "execute_result",
          "data": {
            "text/plain": [
              "30"
            ]
          },
          "metadata": {},
          "execution_count": 15
        }
      ]
    },
    {
      "cell_type": "markdown",
      "source": [
        "```\n",
        "We have 30 topics inside the page. \n",
        "```"
      ],
      "metadata": {
        "id": "cOp55hiFZaST"
      }
    },
    {
      "cell_type": "code",
      "source": [
        "topic_title_tags[:3]"
      ],
      "metadata": {
        "colab": {
          "base_uri": "https://localhost:8080/"
        },
        "id": "cmzD7qDAGYSB",
        "outputId": "6b9efd80-a207-498a-f65d-098676d203bc"
      },
      "execution_count": null,
      "outputs": [
        {
          "output_type": "execute_result",
          "data": {
            "text/plain": [
              "[<p class=\"f3 lh-condensed mb-0 mt-1 Link--primary\">3D</p>,\n",
              " <p class=\"f3 lh-condensed mb-0 mt-1 Link--primary\">Ajax</p>,\n",
              " <p class=\"f3 lh-condensed mb-0 mt-1 Link--primary\">Algorithm</p>]"
            ]
          },
          "metadata": {},
          "execution_count": 16
        }
      ]
    },
    {
      "cell_type": "markdown",
      "source": [
        "```\n",
        "- Points to note:\n",
        "1. doc.find_all method return the list object.\n",
        "2. List object contains all the p tags of the required class.\n",
        "3. We have all the topics name inside the p tags. \n",
        "```"
      ],
      "metadata": {
        "id": "4azyQaaiGfb-"
      }
    },
    {
      "cell_type": "markdown",
      "source": [
        "### Now, let's fetch the \"topic description tags\".  "
      ],
      "metadata": {
        "id": "Nv7F1Rz6ShgY"
      }
    },
    {
      "cell_type": "code",
      "source": [
        "topic_description_tags = doc.find_all('p', {'class':\"f5 color-fg-muted mb-0 mt-1\"})"
      ],
      "metadata": {
        "id": "P_PuRCWlPpv9"
      },
      "execution_count": null,
      "outputs": []
    },
    {
      "cell_type": "code",
      "source": [
        "len(topic_description_tags)"
      ],
      "metadata": {
        "colab": {
          "base_uri": "https://localhost:8080/"
        },
        "id": "bggguKwCPqTd",
        "outputId": "5f0cadb0-fb33-43dc-f300-5092dd3432b8"
      },
      "execution_count": null,
      "outputs": [
        {
          "output_type": "execute_result",
          "data": {
            "text/plain": [
              "30"
            ]
          },
          "metadata": {},
          "execution_count": 18
        }
      ]
    },
    {
      "cell_type": "markdown",
      "source": [
        "```\n",
        "We have got 30 descrptions, remember there are 30 topics & now we have descriptions for all of them.\n",
        "```"
      ],
      "metadata": {
        "id": "iAY7MzLhZicr"
      }
    },
    {
      "cell_type": "code",
      "source": [
        "topic_description_tags[:1]"
      ],
      "metadata": {
        "colab": {
          "base_uri": "https://localhost:8080/"
        },
        "id": "ZJrFcATnRGkE",
        "outputId": "257bbba5-e287-4df8-9a05-e9a17d807e02"
      },
      "execution_count": null,
      "outputs": [
        {
          "output_type": "execute_result",
          "data": {
            "text/plain": [
              "[<p class=\"f5 color-fg-muted mb-0 mt-1\">\n",
              "           3D modeling is the process of virtually developing the surface and structure of a 3D object.\n",
              "         </p>]"
            ]
          },
          "metadata": {},
          "execution_count": 19
        }
      ]
    },
    {
      "cell_type": "markdown",
      "source": [
        "### Let's fetch the topic URL/link"
      ],
      "metadata": {
        "id": "wD0Lr-90Su5X"
      }
    },
    {
      "cell_type": "code",
      "source": [
        "topic_link_tags0 = topic_title_tags[0].parent"
      ],
      "metadata": {
        "id": "ni2JsBOFSc7y"
      },
      "execution_count": null,
      "outputs": []
    },
    {
      "cell_type": "markdown",
      "source": [
        "```\n",
        "- We are using parent child relationship to get the required tag. \n",
        "- Using the indexing on the list object(topic_title_tags), we are tracing the parent class. \n",
        "```"
      ],
      "metadata": {
        "id": "WK1Ur67pU3XN"
      }
    },
    {
      "cell_type": "code",
      "source": [
        "topic_link_tags0"
      ],
      "metadata": {
        "colab": {
          "base_uri": "https://localhost:8080/"
        },
        "id": "lFfiCpp9SdEX",
        "outputId": "1bbabfd1-1a0c-4e7e-b39c-729abf7650a1"
      },
      "execution_count": null,
      "outputs": [
        {
          "output_type": "execute_result",
          "data": {
            "text/plain": [
              "<a class=\"no-underline flex-1 d-flex flex-column\" href=\"/topics/3d\">\n",
              "<p class=\"f3 lh-condensed mb-0 mt-1 Link--primary\">3D</p>\n",
              "<p class=\"f5 color-fg-muted mb-0 mt-1\">\n",
              "          3D modeling is the process of virtually developing the surface and structure of a 3D object.\n",
              "        </p>\n",
              "</a>"
            ]
          },
          "metadata": {},
          "execution_count": 21
        }
      ]
    },
    {
      "cell_type": "code",
      "source": [
        "type(topic_link_tags0)"
      ],
      "metadata": {
        "colab": {
          "base_uri": "https://localhost:8080/"
        },
        "id": "0-J-oS3TWnya",
        "outputId": "e2a80891-504c-48ca-bd42-2d3b7f2a703b"
      },
      "execution_count": null,
      "outputs": [
        {
          "output_type": "execute_result",
          "data": {
            "text/plain": [
              "bs4.element.Tag"
            ]
          },
          "metadata": {},
          "execution_count": 22
        }
      ]
    },
    {
      "cell_type": "markdown",
      "source": [
        "```\n",
        "We can treat 'bs4.element.Tag' object as dictionary. \n",
        "```"
      ],
      "metadata": {
        "id": "PqEEFiNLXfY_"
      }
    },
    {
      "cell_type": "code",
      "source": [
        "topic_link_tags0['href']"
      ],
      "metadata": {
        "colab": {
          "base_uri": "https://localhost:8080/",
          "height": 35
        },
        "id": "F86igK9SWn7O",
        "outputId": "74b17c45-ee09-412e-d53a-ca4c31978d50"
      },
      "execution_count": null,
      "outputs": [
        {
          "output_type": "execute_result",
          "data": {
            "text/plain": [
              "'/topics/3d'"
            ],
            "application/vnd.google.colaboratory.intrinsic+json": {
              "type": "string"
            }
          },
          "metadata": {},
          "execution_count": 23
        }
      ]
    },
    {
      "cell_type": "markdown",
      "source": [
        "```\n",
        "let's build the URL for 1st topic on the web page.\n",
        "```"
      ],
      "metadata": {
        "id": "5b9gtV1pYvj_"
      }
    },
    {
      "cell_type": "code",
      "source": [
        "topic0_url = \"https://github.com\" + topic_link_tags0[\"href\"]"
      ],
      "metadata": {
        "id": "ZdQdkpzeTx3s"
      },
      "execution_count": null,
      "outputs": []
    },
    {
      "cell_type": "code",
      "source": [
        "topic0_url"
      ],
      "metadata": {
        "colab": {
          "base_uri": "https://localhost:8080/",
          "height": 35
        },
        "id": "Nlfcal5oZP-n",
        "outputId": "e35bbf89-1e5d-427b-d64d-52f854b1c599"
      },
      "execution_count": null,
      "outputs": [
        {
          "output_type": "execute_result",
          "data": {
            "text/plain": [
              "'https://github.com/topics/3d'"
            ],
            "application/vnd.google.colaboratory.intrinsic+json": {
              "type": "string"
            }
          },
          "metadata": {},
          "execution_count": 25
        }
      ]
    },
    {
      "cell_type": "markdown",
      "source": [
        "```\n",
        "We are able to build the url to the github topic page for the \"topic 3D\".\n",
        "```"
      ],
      "metadata": {
        "id": "7xmbtuVTapG7"
      }
    },
    {
      "cell_type": "markdown",
      "source": [
        "```\n",
        "Let's make a list of topic titles.\n",
        "```"
      ],
      "metadata": {
        "id": "X2kRbu3kbYCp"
      }
    },
    {
      "cell_type": "code",
      "source": [
        "topic_titles = []\n",
        "for tag in topic_title_tags:\n",
        "  topic_titles.append(tag.text)\n",
        "topic_titles[:7]"
      ],
      "metadata": {
        "colab": {
          "base_uri": "https://localhost:8080/"
        },
        "id": "23WnwNAxbjt4",
        "outputId": "b4c8a156-3b57-4ceb-f5c3-87b7472dd2ca"
      },
      "execution_count": null,
      "outputs": [
        {
          "output_type": "execute_result",
          "data": {
            "text/plain": [
              "['3D', 'Ajax', 'Algorithm', 'Amp', 'Android', 'Angular', 'Ansible']"
            ]
          },
          "metadata": {},
          "execution_count": 26
        }
      ]
    },
    {
      "cell_type": "markdown",
      "source": [
        "```\n",
        "Similary, let's make a list of topic descriptions. \n",
        "```"
      ],
      "metadata": {
        "id": "SEcxwfLecST_"
      }
    },
    {
      "cell_type": "code",
      "source": [
        "topic_descriptions = []\n",
        "for desc in topic_description_tags:\n",
        "  topic_descriptions.append(desc.text.strip())\n",
        "topic_descriptions[:3]\n"
      ],
      "metadata": {
        "colab": {
          "base_uri": "https://localhost:8080/"
        },
        "id": "kbSEjeDebj5R",
        "outputId": "d0eb3419-91c8-427f-c307-46195058f29e"
      },
      "execution_count": null,
      "outputs": [
        {
          "output_type": "execute_result",
          "data": {
            "text/plain": [
              "['3D modeling is the process of virtually developing the surface and structure of a 3D object.',\n",
              " 'Ajax is a technique for creating interactive web applications.',\n",
              " 'Algorithms are self-contained sequences that carry out a variety of tasks.']"
            ]
          },
          "metadata": {},
          "execution_count": 27
        }
      ]
    },
    {
      "cell_type": "markdown",
      "source": [
        "```\n",
        "Finaly let's build a list of topic URL's.\n",
        "```"
      ],
      "metadata": {
        "id": "roYs3lh7dt_F"
      }
    },
    {
      "cell_type": "code",
      "source": [
        "topic_title_tags[0].parent['href']"
      ],
      "metadata": {
        "id": "qz0ANQTa78Z4",
        "outputId": "dfa46695-efed-4b50-d65b-634a16fc83cd",
        "colab": {
          "base_uri": "https://localhost:8080/"
        }
      },
      "execution_count": null,
      "outputs": [
        {
          "output_type": "execute_result",
          "data": {
            "text/plain": [
              "'/topics/3d'"
            ],
            "application/vnd.google.colaboratory.intrinsic+json": {
              "type": "string"
            }
          },
          "metadata": {},
          "execution_count": 133
        }
      ]
    },
    {
      "cell_type": "code",
      "source": [
        "topic_urls = []\n",
        "for link in topic_title_tags:\n",
        "  url = \"https://github.com\" + link.parent['href']\n",
        "  topic_urls.append(url)\n",
        "topic_urls[:5]"
      ],
      "metadata": {
        "colab": {
          "base_uri": "https://localhost:8080/"
        },
        "id": "c3u-hdfncjGE",
        "outputId": "57ea2933-f167-438a-d1fe-dd1b2c361ac5"
      },
      "execution_count": null,
      "outputs": [
        {
          "output_type": "execute_result",
          "data": {
            "text/plain": [
              "['https://github.com/topics/3d',\n",
              " 'https://github.com/topics/ajax',\n",
              " 'https://github.com/topics/algorithm',\n",
              " 'https://github.com/topics/amphp',\n",
              " 'https://github.com/topics/android']"
            ]
          },
          "metadata": {},
          "execution_count": 28
        }
      ]
    },
    {
      "cell_type": "markdown",
      "source": [
        "```\n",
        "- let's create a CSV file using this lists namely 1)topic titles 2)topic descriptions 3) topic urls.\n",
        "- We can use pandas data frame to create CSV file.\n",
        "```"
      ],
      "metadata": {
        "id": "8KiLbyfsfViS"
      }
    },
    {
      "cell_type": "code",
      "source": [
        "!pip install pandas --quiet"
      ],
      "metadata": {
        "id": "xTxDAkWLd_Ci"
      },
      "execution_count": null,
      "outputs": []
    },
    {
      "cell_type": "code",
      "source": [
        "import pandas as pd\n"
      ],
      "metadata": {
        "id": "L_jYf2phgQb4"
      },
      "execution_count": null,
      "outputs": []
    },
    {
      "cell_type": "code",
      "source": [
        "topics_dict = {\n",
        "    \"title\" : topic_titles,\n",
        "    \"description\" : topic_descriptions,\n",
        "    \"URL\" : topic_urls\n",
        "}"
      ],
      "metadata": {
        "id": "fRgxMOZpgxPm"
      },
      "execution_count": null,
      "outputs": []
    },
    {
      "cell_type": "code",
      "source": [
        "topics_df = pd.DataFrame(topics_dict)"
      ],
      "metadata": {
        "id": "BNGVz7b0gUaY"
      },
      "execution_count": null,
      "outputs": []
    },
    {
      "cell_type": "code",
      "source": [
        "topics_df[:7]"
      ],
      "metadata": {
        "colab": {
          "base_uri": "https://localhost:8080/",
          "height": 269
        },
        "id": "lvIESgjlgUx3",
        "outputId": "f99ecae6-faeb-41b8-c626-54f70059910d"
      },
      "execution_count": null,
      "outputs": [
        {
          "output_type": "execute_result",
          "data": {
            "text/plain": [
              "       title                                        description  \\\n",
              "0         3D  3D modeling is the process of virtually develo...   \n",
              "1       Ajax  Ajax is a technique for creating interactive w...   \n",
              "2  Algorithm  Algorithms are self-contained sequences that c...   \n",
              "3        Amp  Amp is a non-blocking concurrency library for ...   \n",
              "4    Android  Android is an operating system built by Google...   \n",
              "5    Angular  Angular is an open source web application plat...   \n",
              "6    Ansible  Ansible is a simple and powerful automation en...   \n",
              "\n",
              "                                   URL  \n",
              "0         https://github.com/topics/3d  \n",
              "1       https://github.com/topics/ajax  \n",
              "2  https://github.com/topics/algorithm  \n",
              "3      https://github.com/topics/amphp  \n",
              "4    https://github.com/topics/android  \n",
              "5    https://github.com/topics/angular  \n",
              "6    https://github.com/topics/ansible  "
            ],
            "text/html": [
              "\n",
              "  <div id=\"df-30aed56b-1a25-4288-a43a-5026b8638e19\">\n",
              "    <div class=\"colab-df-container\">\n",
              "      <div>\n",
              "<style scoped>\n",
              "    .dataframe tbody tr th:only-of-type {\n",
              "        vertical-align: middle;\n",
              "    }\n",
              "\n",
              "    .dataframe tbody tr th {\n",
              "        vertical-align: top;\n",
              "    }\n",
              "\n",
              "    .dataframe thead th {\n",
              "        text-align: right;\n",
              "    }\n",
              "</style>\n",
              "<table border=\"1\" class=\"dataframe\">\n",
              "  <thead>\n",
              "    <tr style=\"text-align: right;\">\n",
              "      <th></th>\n",
              "      <th>title</th>\n",
              "      <th>description</th>\n",
              "      <th>URL</th>\n",
              "    </tr>\n",
              "  </thead>\n",
              "  <tbody>\n",
              "    <tr>\n",
              "      <th>0</th>\n",
              "      <td>3D</td>\n",
              "      <td>3D modeling is the process of virtually develo...</td>\n",
              "      <td>https://github.com/topics/3d</td>\n",
              "    </tr>\n",
              "    <tr>\n",
              "      <th>1</th>\n",
              "      <td>Ajax</td>\n",
              "      <td>Ajax is a technique for creating interactive w...</td>\n",
              "      <td>https://github.com/topics/ajax</td>\n",
              "    </tr>\n",
              "    <tr>\n",
              "      <th>2</th>\n",
              "      <td>Algorithm</td>\n",
              "      <td>Algorithms are self-contained sequences that c...</td>\n",
              "      <td>https://github.com/topics/algorithm</td>\n",
              "    </tr>\n",
              "    <tr>\n",
              "      <th>3</th>\n",
              "      <td>Amp</td>\n",
              "      <td>Amp is a non-blocking concurrency library for ...</td>\n",
              "      <td>https://github.com/topics/amphp</td>\n",
              "    </tr>\n",
              "    <tr>\n",
              "      <th>4</th>\n",
              "      <td>Android</td>\n",
              "      <td>Android is an operating system built by Google...</td>\n",
              "      <td>https://github.com/topics/android</td>\n",
              "    </tr>\n",
              "    <tr>\n",
              "      <th>5</th>\n",
              "      <td>Angular</td>\n",
              "      <td>Angular is an open source web application plat...</td>\n",
              "      <td>https://github.com/topics/angular</td>\n",
              "    </tr>\n",
              "    <tr>\n",
              "      <th>6</th>\n",
              "      <td>Ansible</td>\n",
              "      <td>Ansible is a simple and powerful automation en...</td>\n",
              "      <td>https://github.com/topics/ansible</td>\n",
              "    </tr>\n",
              "  </tbody>\n",
              "</table>\n",
              "</div>\n",
              "      <button class=\"colab-df-convert\" onclick=\"convertToInteractive('df-30aed56b-1a25-4288-a43a-5026b8638e19')\"\n",
              "              title=\"Convert this dataframe to an interactive table.\"\n",
              "              style=\"display:none;\">\n",
              "        \n",
              "  <svg xmlns=\"http://www.w3.org/2000/svg\" height=\"24px\"viewBox=\"0 0 24 24\"\n",
              "       width=\"24px\">\n",
              "    <path d=\"M0 0h24v24H0V0z\" fill=\"none\"/>\n",
              "    <path d=\"M18.56 5.44l.94 2.06.94-2.06 2.06-.94-2.06-.94-.94-2.06-.94 2.06-2.06.94zm-11 1L8.5 8.5l.94-2.06 2.06-.94-2.06-.94L8.5 2.5l-.94 2.06-2.06.94zm10 10l.94 2.06.94-2.06 2.06-.94-2.06-.94-.94-2.06-.94 2.06-2.06.94z\"/><path d=\"M17.41 7.96l-1.37-1.37c-.4-.4-.92-.59-1.43-.59-.52 0-1.04.2-1.43.59L10.3 9.45l-7.72 7.72c-.78.78-.78 2.05 0 2.83L4 21.41c.39.39.9.59 1.41.59.51 0 1.02-.2 1.41-.59l7.78-7.78 2.81-2.81c.8-.78.8-2.07 0-2.86zM5.41 20L4 18.59l7.72-7.72 1.47 1.35L5.41 20z\"/>\n",
              "  </svg>\n",
              "      </button>\n",
              "      \n",
              "  <style>\n",
              "    .colab-df-container {\n",
              "      display:flex;\n",
              "      flex-wrap:wrap;\n",
              "      gap: 12px;\n",
              "    }\n",
              "\n",
              "    .colab-df-convert {\n",
              "      background-color: #E8F0FE;\n",
              "      border: none;\n",
              "      border-radius: 50%;\n",
              "      cursor: pointer;\n",
              "      display: none;\n",
              "      fill: #1967D2;\n",
              "      height: 32px;\n",
              "      padding: 0 0 0 0;\n",
              "      width: 32px;\n",
              "    }\n",
              "\n",
              "    .colab-df-convert:hover {\n",
              "      background-color: #E2EBFA;\n",
              "      box-shadow: 0px 1px 2px rgba(60, 64, 67, 0.3), 0px 1px 3px 1px rgba(60, 64, 67, 0.15);\n",
              "      fill: #174EA6;\n",
              "    }\n",
              "\n",
              "    [theme=dark] .colab-df-convert {\n",
              "      background-color: #3B4455;\n",
              "      fill: #D2E3FC;\n",
              "    }\n",
              "\n",
              "    [theme=dark] .colab-df-convert:hover {\n",
              "      background-color: #434B5C;\n",
              "      box-shadow: 0px 1px 3px 1px rgba(0, 0, 0, 0.15);\n",
              "      filter: drop-shadow(0px 1px 2px rgba(0, 0, 0, 0.3));\n",
              "      fill: #FFFFFF;\n",
              "    }\n",
              "  </style>\n",
              "\n",
              "      <script>\n",
              "        const buttonEl =\n",
              "          document.querySelector('#df-30aed56b-1a25-4288-a43a-5026b8638e19 button.colab-df-convert');\n",
              "        buttonEl.style.display =\n",
              "          google.colab.kernel.accessAllowed ? 'block' : 'none';\n",
              "\n",
              "        async function convertToInteractive(key) {\n",
              "          const element = document.querySelector('#df-30aed56b-1a25-4288-a43a-5026b8638e19');\n",
              "          const dataTable =\n",
              "            await google.colab.kernel.invokeFunction('convertToInteractive',\n",
              "                                                     [key], {});\n",
              "          if (!dataTable) return;\n",
              "\n",
              "          const docLinkHtml = 'Like what you see? Visit the ' +\n",
              "            '<a target=\"_blank\" href=https://colab.research.google.com/notebooks/data_table.ipynb>data table notebook</a>'\n",
              "            + ' to learn more about interactive tables.';\n",
              "          element.innerHTML = '';\n",
              "          dataTable['output_type'] = 'display_data';\n",
              "          await google.colab.output.renderOutput(dataTable, element);\n",
              "          const docLink = document.createElement('div');\n",
              "          docLink.innerHTML = docLinkHtml;\n",
              "          element.appendChild(docLink);\n",
              "        }\n",
              "      </script>\n",
              "    </div>\n",
              "  </div>\n",
              "  "
            ]
          },
          "metadata": {},
          "execution_count": 33
        }
      ]
    },
    {
      "cell_type": "code",
      "source": [
        ""
      ],
      "metadata": {
        "id": "TjOYkqzdhi2G"
      },
      "execution_count": null,
      "outputs": []
    },
    {
      "cell_type": "code",
      "source": [
        ""
      ],
      "metadata": {
        "id": "2fR5OuLfhjTK"
      },
      "execution_count": null,
      "outputs": []
    },
    {
      "cell_type": "code",
      "source": [
        ""
      ],
      "metadata": {
        "id": "DNmzeUqJhjcd"
      },
      "execution_count": null,
      "outputs": []
    },
    {
      "cell_type": "markdown",
      "source": [
        "## Create CSV file with extracted information."
      ],
      "metadata": {
        "id": "j78-UcYD0rt2"
      }
    },
    {
      "cell_type": "code",
      "source": [
        "topics_df.to_csv('topics.csv', index=None) # in the bracket is the name of the csv file."
      ],
      "metadata": {
        "id": "iy89uBEO0vhh"
      },
      "execution_count": null,
      "outputs": []
    },
    {
      "cell_type": "markdown",
      "source": [
        "```\n",
        "- Now, we'll go to each and every topic page, remember we have 30 topics. \n",
        "- So, we'll got to each and every topic page and fetch some information from there.\n",
        "```"
      ],
      "metadata": {
        "id": "qlIO-xwSj5kQ"
      }
    },
    {
      "cell_type": "markdown",
      "source": [
        "## Getting information out of a topic page."
      ],
      "metadata": {
        "id": "yNfwZ1K1kZH9"
      }
    },
    {
      "cell_type": "code",
      "source": [
        "topic_page_url = topic_urls[0]"
      ],
      "metadata": {
        "id": "uOIBwJmujFZc"
      },
      "execution_count": null,
      "outputs": []
    },
    {
      "cell_type": "code",
      "source": [
        "topic_page_url"
      ],
      "metadata": {
        "colab": {
          "base_uri": "https://localhost:8080/",
          "height": 35
        },
        "id": "AKXzjiyZ3aJY",
        "outputId": "9f951907-cf89-44d9-fb1c-c2a82fae029a"
      },
      "execution_count": null,
      "outputs": [
        {
          "output_type": "execute_result",
          "data": {
            "text/plain": [
              "'https://github.com/topics/3d'"
            ],
            "application/vnd.google.colaboratory.intrinsic+json": {
              "type": "string"
            }
          },
          "metadata": {},
          "execution_count": 36
        }
      ]
    },
    {
      "cell_type": "markdown",
      "source": [
        "```\n",
        "We'll just be repeting the process to get the web page parsed.\n",
        "```"
      ],
      "metadata": {
        "id": "oUbISxEA3tnA"
      }
    },
    {
      "cell_type": "code",
      "source": [
        "response = requests.get(topic_page_url)"
      ],
      "metadata": {
        "id": "JNfPnH4N3d1N"
      },
      "execution_count": null,
      "outputs": []
    },
    {
      "cell_type": "markdown",
      "source": [
        "```\n",
        "let's check if the response was successful using status code.\n",
        "```"
      ],
      "metadata": {
        "id": "ZQbKECUZ4gTO"
      }
    },
    {
      "cell_type": "code",
      "source": [
        "response.status_code"
      ],
      "metadata": {
        "colab": {
          "base_uri": "https://localhost:8080/"
        },
        "id": "t62sCx5_4Okn",
        "outputId": "190d8f77-28d9-4703-db65-c0854724f982"
      },
      "execution_count": null,
      "outputs": [
        {
          "output_type": "execute_result",
          "data": {
            "text/plain": [
              "200"
            ]
          },
          "metadata": {},
          "execution_count": 38
        }
      ]
    },
    {
      "cell_type": "code",
      "source": [
        "len(response.text)"
      ],
      "metadata": {
        "colab": {
          "base_uri": "https://localhost:8080/"
        },
        "id": "rqwsr0tk4WeE",
        "outputId": "7907c520-880d-455f-889b-3434f803a20c"
      },
      "execution_count": null,
      "outputs": [
        {
          "output_type": "execute_result",
          "data": {
            "text/plain": [
              "644877"
            ]
          },
          "metadata": {},
          "execution_count": 39
        }
      ]
    },
    {
      "cell_type": "markdown",
      "source": [
        "```\n",
        "let's parse it using Beautiful Soup to fetch useful information out of it.\n",
        "```"
      ],
      "metadata": {
        "id": "Pxs-QOzp6jx3"
      }
    },
    {
      "cell_type": "code",
      "source": [
        "  topic_doc = BeautifulSoup(response.text, 'html.parser')"
      ],
      "metadata": {
        "id": "NU7haMnB6Xo5"
      },
      "execution_count": null,
      "outputs": []
    },
    {
      "cell_type": "markdown",
      "source": [
        "```\n",
        "We want to fetch the following information from the page:\n",
        "i)UserName\n",
        "ii)RepositoryName\n",
        "iii)URL\n",
        "iv)StarCount\n",
        "```"
      ],
      "metadata": {
        "id": "Zp1FdUWH7G6n"
      }
    },
    {
      "cell_type": "code",
      "source": [
        "len(topic_doc)"
      ],
      "metadata": {
        "colab": {
          "base_uri": "https://localhost:8080/"
        },
        "id": "hOd1uEL6TfTz",
        "outputId": "a37bee76-1731-4d64-c22d-010dd586e3db"
      },
      "execution_count": null,
      "outputs": [
        {
          "output_type": "execute_result",
          "data": {
            "text/plain": [
              "49"
            ]
          },
          "metadata": {},
          "execution_count": 88
        }
      ]
    },
    {
      "cell_type": "code",
      "source": [
        "type(topic_doc)"
      ],
      "metadata": {
        "colab": {
          "base_uri": "https://localhost:8080/"
        },
        "id": "Cc3D92GVTnhQ",
        "outputId": "f070a05d-0534-4bae-d9be-8dcecc95286d"
      },
      "execution_count": null,
      "outputs": [
        {
          "output_type": "execute_result",
          "data": {
            "text/plain": [
              "bs4.BeautifulSoup"
            ]
          },
          "metadata": {},
          "execution_count": 90
        }
      ]
    },
    {
      "cell_type": "code",
      "source": [
        "repo_tags = topic_doc.find_all('h3', {'class':\"f3 color-fg-muted text-normal lh-condensed\"})"
      ],
      "metadata": {
        "id": "cSRSMQqD678A"
      },
      "execution_count": null,
      "outputs": []
    },
    {
      "cell_type": "code",
      "source": [
        "len(repo_tags)"
      ],
      "metadata": {
        "colab": {
          "base_uri": "https://localhost:8080/"
        },
        "id": "oeefhbbeVJR2",
        "outputId": "aa3b4028-1fee-4fd8-86a3-3aa4b8c0a69e"
      },
      "execution_count": null,
      "outputs": [
        {
          "output_type": "execute_result",
          "data": {
            "text/plain": [
              "30"
            ]
          },
          "metadata": {},
          "execution_count": 42
        }
      ]
    },
    {
      "cell_type": "markdown",
      "source": [
        "```\n",
        "- There are 30 repositories on the page\n",
        "- repo_tags contains userame, repository name, link to repository(URL).\n",
        "```"
      ],
      "metadata": {
        "id": "osVA22Z8VW3i"
      }
    },
    {
      "cell_type": "code",
      "source": [
        "repo_tags[0]"
      ],
      "metadata": {
        "colab": {
          "base_uri": "https://localhost:8080/"
        },
        "id": "p__sfLBpVOuY",
        "outputId": "83be7671-bcca-42f5-e162-6253d3440266"
      },
      "execution_count": null,
      "outputs": [
        {
          "output_type": "execute_result",
          "data": {
            "text/plain": [
              "<h3 class=\"f3 color-fg-muted text-normal lh-condensed\">\n",
              "<a data-ga-click=\"Explore, go to repository owner, location:explore feed\" data-hydro-click='{\"event_type\":\"explore.click\",\"payload\":{\"click_context\":\"REPOSITORY_CARD\",\"click_target\":\"OWNER\",\"click_visual_representation\":\"REPOSITORY_OWNER_HEADING\",\"actor_id\":null,\"record_id\":97088,\"originating_url\":\"https://github.com/topics/3d\",\"user_id\":null}}' data-hydro-click-hmac=\"4bdbc49d3c05ae7f70b531fbce709a384200b0768554e0172950286a8db30940\" data-turbo=\"false\" data-view-component=\"true\" href=\"/mrdoob\">\n",
              "            mrdoob\n",
              "</a>          /\n",
              "          <a class=\"text-bold wb-break-word\" data-ga-click=\"Explore, go to repository, location:explore feed\" data-hydro-click='{\"event_type\":\"explore.click\",\"payload\":{\"click_context\":\"REPOSITORY_CARD\",\"click_target\":\"REPOSITORY\",\"click_visual_representation\":\"REPOSITORY_NAME_HEADING\",\"actor_id\":null,\"record_id\":576201,\"originating_url\":\"https://github.com/topics/3d\",\"user_id\":null}}' data-hydro-click-hmac=\"517d3d5cb9d89752156923904a4238816bc9b51ab7772f3e3644ce897d8dd4e5\" data-turbo=\"false\" data-view-component=\"true\" href=\"/mrdoob/three.js\">\n",
              "            three.js\n",
              "</a> </h3>"
            ]
          },
          "metadata": {},
          "execution_count": 43
        }
      ]
    },
    {
      "cell_type": "code",
      "source": [
        "a_tags = repo_tags[0].find_all('a')"
      ],
      "metadata": {
        "id": "jdCEKnksXYEm"
      },
      "execution_count": null,
      "outputs": []
    },
    {
      "cell_type": "code",
      "source": [
        "a_tags[0].text.strip()"
      ],
      "metadata": {
        "colab": {
          "base_uri": "https://localhost:8080/",
          "height": 35
        },
        "id": "DaqBWUQCXjoT",
        "outputId": "a9b2aeb4-2ed3-4be9-e37f-7fe74696e3dc"
      },
      "execution_count": null,
      "outputs": [
        {
          "output_type": "execute_result",
          "data": {
            "text/plain": [
              "'mrdoob'"
            ],
            "application/vnd.google.colaboratory.intrinsic+json": {
              "type": "string"
            }
          },
          "metadata": {},
          "execution_count": 45
        }
      ]
    },
    {
      "cell_type": "markdown",
      "source": [
        "```\n",
        "this gives userName\n",
        "```"
      ],
      "metadata": {
        "id": "ofOSJcJtYIA9"
      }
    },
    {
      "cell_type": "code",
      "source": [
        "a_tags[1].text.strip()"
      ],
      "metadata": {
        "colab": {
          "base_uri": "https://localhost:8080/",
          "height": 35
        },
        "id": "LrZUFO4qXxrz",
        "outputId": "761f5fe7-e647-471c-e402-2f417af19bb5"
      },
      "execution_count": null,
      "outputs": [
        {
          "output_type": "execute_result",
          "data": {
            "text/plain": [
              "'three.js'"
            ],
            "application/vnd.google.colaboratory.intrinsic+json": {
              "type": "string"
            }
          },
          "metadata": {},
          "execution_count": 46
        }
      ]
    },
    {
      "cell_type": "markdown",
      "source": [
        "```\n",
        "this gives repoName\n",
        "```"
      ],
      "metadata": {
        "id": "QjeHClyMYSLF"
      }
    },
    {
      "cell_type": "code",
      "source": [
        "base_url = \"https://github.com\"\n",
        "repo_url = base_url + a_tags[1]['href']"
      ],
      "metadata": {
        "id": "gOTPZMXzYQp7"
      },
      "execution_count": null,
      "outputs": []
    },
    {
      "cell_type": "code",
      "source": [
        "repo_url"
      ],
      "metadata": {
        "colab": {
          "base_uri": "https://localhost:8080/",
          "height": 35
        },
        "id": "byqDz-tkYlx7",
        "outputId": "f6765ec4-767a-410b-ba77-3d234c57a76f"
      },
      "execution_count": null,
      "outputs": [
        {
          "output_type": "execute_result",
          "data": {
            "text/plain": [
              "'https://github.com/mrdoob/three.js'"
            ],
            "application/vnd.google.colaboratory.intrinsic+json": {
              "type": "string"
            }
          },
          "metadata": {},
          "execution_count": 48
        }
      ]
    },
    {
      "cell_type": "markdown",
      "source": [
        "```\n",
        "- WE have been able to construct the URL for repository page for the first sub-topic in 3D topic's page.\n",
        "```"
      ],
      "metadata": {
        "id": "mTpU0LXIZHnS"
      }
    },
    {
      "cell_type": "code",
      "source": [
        "star_tags = topic_doc.find_all('span', {'id':\"repo-stars-counter-star\"})"
      ],
      "metadata": {
        "id": "RmnBZb2kY6Y6"
      },
      "execution_count": null,
      "outputs": []
    },
    {
      "cell_type": "code",
      "source": [
        "len(star_tags)"
      ],
      "metadata": {
        "colab": {
          "base_uri": "https://localhost:8080/"
        },
        "id": "0SgPGlshaN9A",
        "outputId": "9b9763fd-a5fd-498a-e9e0-f08b8e22da6a"
      },
      "execution_count": null,
      "outputs": [
        {
          "output_type": "execute_result",
          "data": {
            "text/plain": [
              "30"
            ]
          },
          "metadata": {},
          "execution_count": 50
        }
      ]
    },
    {
      "cell_type": "markdown",
      "source": [
        "```\n",
        "len is 30, so we are good to go.\n",
        "```"
      ],
      "metadata": {
        "id": "A3yjzxwcb9_f"
      }
    },
    {
      "cell_type": "code",
      "source": [
        "star_tags[29].text"
      ],
      "metadata": {
        "colab": {
          "base_uri": "https://localhost:8080/",
          "height": 35
        },
        "id": "hf91W3ZJaQMX",
        "outputId": "a900bf8e-90f8-401d-c763-7b376dbe9162"
      },
      "execution_count": null,
      "outputs": [
        {
          "output_type": "execute_result",
          "data": {
            "text/plain": [
              "'3k'"
            ],
            "application/vnd.google.colaboratory.intrinsic+json": {
              "type": "string"
            }
          },
          "metadata": {},
          "execution_count": 51
        }
      ]
    },
    {
      "cell_type": "markdown",
      "source": [
        "```\n",
        "let's write a function to convert the star count into int type\n",
        "```"
      ],
      "metadata": {
        "id": "GiGNzAgKdH6N"
      }
    },
    {
      "cell_type": "code",
      "source": [
        "def parse_star_count(stars_str):\n",
        "  stars_str = stars_str.strip() # better to always strip first while converting to int. \n",
        "  if stars_str[-1] == 'k':\n",
        "    return int(float(stars_str[:-1]) * 1000)\n",
        "  return int(stars_str)"
      ],
      "metadata": {
        "id": "EJrt4YFDbg-t"
      },
      "execution_count": null,
      "outputs": []
    },
    {
      "cell_type": "code",
      "source": [
        "print(parse_star_count(star_tags[0].text))"
      ],
      "metadata": {
        "colab": {
          "base_uri": "https://localhost:8080/"
        },
        "id": "idp8HdYVdi2Z",
        "outputId": "ba676a18-88a0-4124-ec48-3f075db77a67"
      },
      "execution_count": null,
      "outputs": [
        {
          "output_type": "stream",
          "name": "stdout",
          "text": [
            "83100\n"
          ]
        }
      ]
    },
    {
      "cell_type": "markdown",
      "source": [
        "```\n",
        "Let's define a function \"get_repo_info()\"\n",
        "```"
      ],
      "metadata": {
        "id": "Fnx03-YWfh1G"
      }
    },
    {
      "cell_type": "code",
      "source": [
        "def get_repo_info(h3_tags, star_tags):\n",
        "  a_tags = h3_tags.find_all('a')  \n",
        "  username = a_tags[0].text.strip()\n",
        "  repo_name = a_tags[1].text.strip()\n",
        "  repo_url = base_url + a_tags[1]['href']\n",
        "  stars = parse_star_count(star_tags.text)\n",
        "  return [username, repo_name, stars, repo_url]\n"
      ],
      "metadata": {
        "id": "pQzdKqUAdpPJ"
      },
      "execution_count": null,
      "outputs": []
    },
    {
      "cell_type": "code",
      "source": [
        "print(get_repo_info(repo_tags[0], star_tags[0]))"
      ],
      "metadata": {
        "colab": {
          "base_uri": "https://localhost:8080/"
        },
        "id": "XZ3NC_lZzDbf",
        "outputId": "eae8400f-45f5-48b1-e807-4c75fa486cba"
      },
      "execution_count": null,
      "outputs": [
        {
          "output_type": "stream",
          "name": "stdout",
          "text": [
            "['mrdoob', 'three.js', 83100, 'https://github.com/mrdoob/three.js']\n"
          ]
        }
      ]
    },
    {
      "cell_type": "markdown",
      "source": [
        "```\n",
        "- We have programmaticaly achieved the results for the 'first sub-topic' from the topic 3D.\n",
        "- We can use for loop to get the results for all the sub_topic for the topic 3D. \n",
        "```"
      ],
      "metadata": {
        "id": "1em48DEt07VX"
      }
    },
    {
      "cell_type": "code",
      "source": [
        "topic_repos_dict = {\n",
        "    'username' : [],\n",
        "    'repo_name': [],\n",
        "    'stars' : [],\n",
        "    'url' : []\n",
        "}\n",
        "for i in range(len(repo_tags)):\n",
        "  repo_info = get_repo_info(repo_tags[i], star_tags[i])\n",
        "  topic_repos_dict['username'].append(repo_info[0])\n",
        "  topic_repos_dict['repo_name'].append(repo_info[1])\n",
        "  topic_repos_dict['stars'].append(repo_info[2])\n",
        "  topic_repos_dict['url'].append(repo_info[3])\n"
      ],
      "metadata": {
        "id": "5mjLrzCCzGEf"
      },
      "execution_count": null,
      "outputs": []
    },
    {
      "cell_type": "code",
      "source": [
        "topic_repos_dict"
      ],
      "metadata": {
        "id": "0m25OPgy3yMe"
      },
      "execution_count": null,
      "outputs": []
    },
    {
      "cell_type": "markdown",
      "source": [
        "```\n",
        "let's convert the dictionary into dataframe\n",
        "```"
      ],
      "metadata": {
        "id": "kwrHBGim7Ze5"
      }
    },
    {
      "cell_type": "code",
      "source": [
        "topic_repos_df = pd.DataFrame(topic_repos_dict)"
      ],
      "metadata": {
        "id": "AGm6B4gk7Ew4"
      },
      "execution_count": null,
      "outputs": []
    },
    {
      "cell_type": "code",
      "source": [
        "topic_repos_df[:3]"
      ],
      "metadata": {
        "colab": {
          "base_uri": "https://localhost:8080/",
          "height": 143
        },
        "id": "S5m2UbQd7xeP",
        "outputId": "7335fb3f-58eb-408e-c2ee-84aaff0cebf8"
      },
      "execution_count": null,
      "outputs": [
        {
          "output_type": "execute_result",
          "data": {
            "text/plain": [
              "  username          repo_name  stars  \\\n",
              "0   mrdoob           three.js  83100   \n",
              "1   libgdx             libgdx  20100   \n",
              "2   pmndrs  react-three-fiber  18500   \n",
              "\n",
              "                                           url  \n",
              "0           https://github.com/mrdoob/three.js  \n",
              "1             https://github.com/libgdx/libgdx  \n",
              "2  https://github.com/pmndrs/react-three-fiber  "
            ],
            "text/html": [
              "\n",
              "  <div id=\"df-af7671a9-3cda-43a5-9a4f-d9c83de7ee2c\">\n",
              "    <div class=\"colab-df-container\">\n",
              "      <div>\n",
              "<style scoped>\n",
              "    .dataframe tbody tr th:only-of-type {\n",
              "        vertical-align: middle;\n",
              "    }\n",
              "\n",
              "    .dataframe tbody tr th {\n",
              "        vertical-align: top;\n",
              "    }\n",
              "\n",
              "    .dataframe thead th {\n",
              "        text-align: right;\n",
              "    }\n",
              "</style>\n",
              "<table border=\"1\" class=\"dataframe\">\n",
              "  <thead>\n",
              "    <tr style=\"text-align: right;\">\n",
              "      <th></th>\n",
              "      <th>username</th>\n",
              "      <th>repo_name</th>\n",
              "      <th>stars</th>\n",
              "      <th>url</th>\n",
              "    </tr>\n",
              "  </thead>\n",
              "  <tbody>\n",
              "    <tr>\n",
              "      <th>0</th>\n",
              "      <td>mrdoob</td>\n",
              "      <td>three.js</td>\n",
              "      <td>83100</td>\n",
              "      <td>https://github.com/mrdoob/three.js</td>\n",
              "    </tr>\n",
              "    <tr>\n",
              "      <th>1</th>\n",
              "      <td>libgdx</td>\n",
              "      <td>libgdx</td>\n",
              "      <td>20100</td>\n",
              "      <td>https://github.com/libgdx/libgdx</td>\n",
              "    </tr>\n",
              "    <tr>\n",
              "      <th>2</th>\n",
              "      <td>pmndrs</td>\n",
              "      <td>react-three-fiber</td>\n",
              "      <td>18500</td>\n",
              "      <td>https://github.com/pmndrs/react-three-fiber</td>\n",
              "    </tr>\n",
              "  </tbody>\n",
              "</table>\n",
              "</div>\n",
              "      <button class=\"colab-df-convert\" onclick=\"convertToInteractive('df-af7671a9-3cda-43a5-9a4f-d9c83de7ee2c')\"\n",
              "              title=\"Convert this dataframe to an interactive table.\"\n",
              "              style=\"display:none;\">\n",
              "        \n",
              "  <svg xmlns=\"http://www.w3.org/2000/svg\" height=\"24px\"viewBox=\"0 0 24 24\"\n",
              "       width=\"24px\">\n",
              "    <path d=\"M0 0h24v24H0V0z\" fill=\"none\"/>\n",
              "    <path d=\"M18.56 5.44l.94 2.06.94-2.06 2.06-.94-2.06-.94-.94-2.06-.94 2.06-2.06.94zm-11 1L8.5 8.5l.94-2.06 2.06-.94-2.06-.94L8.5 2.5l-.94 2.06-2.06.94zm10 10l.94 2.06.94-2.06 2.06-.94-2.06-.94-.94-2.06-.94 2.06-2.06.94z\"/><path d=\"M17.41 7.96l-1.37-1.37c-.4-.4-.92-.59-1.43-.59-.52 0-1.04.2-1.43.59L10.3 9.45l-7.72 7.72c-.78.78-.78 2.05 0 2.83L4 21.41c.39.39.9.59 1.41.59.51 0 1.02-.2 1.41-.59l7.78-7.78 2.81-2.81c.8-.78.8-2.07 0-2.86zM5.41 20L4 18.59l7.72-7.72 1.47 1.35L5.41 20z\"/>\n",
              "  </svg>\n",
              "      </button>\n",
              "      \n",
              "  <style>\n",
              "    .colab-df-container {\n",
              "      display:flex;\n",
              "      flex-wrap:wrap;\n",
              "      gap: 12px;\n",
              "    }\n",
              "\n",
              "    .colab-df-convert {\n",
              "      background-color: #E8F0FE;\n",
              "      border: none;\n",
              "      border-radius: 50%;\n",
              "      cursor: pointer;\n",
              "      display: none;\n",
              "      fill: #1967D2;\n",
              "      height: 32px;\n",
              "      padding: 0 0 0 0;\n",
              "      width: 32px;\n",
              "    }\n",
              "\n",
              "    .colab-df-convert:hover {\n",
              "      background-color: #E2EBFA;\n",
              "      box-shadow: 0px 1px 2px rgba(60, 64, 67, 0.3), 0px 1px 3px 1px rgba(60, 64, 67, 0.15);\n",
              "      fill: #174EA6;\n",
              "    }\n",
              "\n",
              "    [theme=dark] .colab-df-convert {\n",
              "      background-color: #3B4455;\n",
              "      fill: #D2E3FC;\n",
              "    }\n",
              "\n",
              "    [theme=dark] .colab-df-convert:hover {\n",
              "      background-color: #434B5C;\n",
              "      box-shadow: 0px 1px 3px 1px rgba(0, 0, 0, 0.15);\n",
              "      filter: drop-shadow(0px 1px 2px rgba(0, 0, 0, 0.3));\n",
              "      fill: #FFFFFF;\n",
              "    }\n",
              "  </style>\n",
              "\n",
              "      <script>\n",
              "        const buttonEl =\n",
              "          document.querySelector('#df-af7671a9-3cda-43a5-9a4f-d9c83de7ee2c button.colab-df-convert');\n",
              "        buttonEl.style.display =\n",
              "          google.colab.kernel.accessAllowed ? 'block' : 'none';\n",
              "\n",
              "        async function convertToInteractive(key) {\n",
              "          const element = document.querySelector('#df-af7671a9-3cda-43a5-9a4f-d9c83de7ee2c');\n",
              "          const dataTable =\n",
              "            await google.colab.kernel.invokeFunction('convertToInteractive',\n",
              "                                                     [key], {});\n",
              "          if (!dataTable) return;\n",
              "\n",
              "          const docLinkHtml = 'Like what you see? Visit the ' +\n",
              "            '<a target=\"_blank\" href=https://colab.research.google.com/notebooks/data_table.ipynb>data table notebook</a>'\n",
              "            + ' to learn more about interactive tables.';\n",
              "          element.innerHTML = '';\n",
              "          dataTable['output_type'] = 'display_data';\n",
              "          await google.colab.output.renderOutput(dataTable, element);\n",
              "          const docLink = document.createElement('div');\n",
              "          docLink.innerHTML = docLinkHtml;\n",
              "          element.appendChild(docLink);\n",
              "        }\n",
              "      </script>\n",
              "    </div>\n",
              "  </div>\n",
              "  "
            ]
          },
          "metadata": {},
          "execution_count": 59
        }
      ]
    },
    {
      "cell_type": "markdown",
      "source": [
        "```\n",
        "- Now, what we have in this CSV, is the information from the topic 3D. Which happens to be one of the topic from the primary topic page.\n",
        "\n",
        "- https://github.com/topics/3d this is the page url that we paresed using BeautifulSoup.\n",
        "\n",
        "- Repeating myself again, there are 30 topics in the primary topic page.\n",
        "- Let's see how we can get the information from the remaining 29 topics/pages. \n",
        "```"
      ],
      "metadata": {
        "id": "iJdi1xsT9M27"
      }
    },
    {
      "cell_type": "markdown",
      "source": [
        "##We'll write a function get_topic_repos() to fetch the information from the topic pages. "
      ],
      "metadata": {
        "id": "E1TzvCQC_zez"
      }
    },
    {
      "cell_type": "code",
      "source": [
        "def get_topic_page(topic_page_url):\n",
        "  # Download the page\n",
        "  response = requests.get(topic_page_url)\n",
        "  # Check successful response \n",
        "  if response.status_code != 200:\n",
        "    raise Exception('failed to load page {}'.format(topic_page_url))\n",
        "  # let's parse the page using BeautifulSoup\n",
        "  topic_doc = BeautifulSoup(response.text, 'html.parser')\n",
        "  return topic_doc\n",
        "\n",
        "\n",
        "def get_repo_info(repo_tags, star_tags):\n",
        "  # return all the required information for the particular/single repo.\n",
        "  a_tags = repo_tags.find_all('a')  \n",
        "  username = a_tags[0].text.strip()\n",
        "  repo_name = a_tags[1].text.strip()\n",
        "  repo_url = base_url + a_tags[1]['href']\n",
        "  stars = parse_star_count(star_tags.text)\n",
        "  return [username, repo_name, stars, repo_url]\n",
        "\n",
        "\n",
        "def get_topic_repos(topic_doc):\n",
        "  # Get the repo_tags.\n",
        "  # repo_tags contains i)userame, ii)repository name, iii)link to repository(URL)\n",
        "  repo_tags = topic_doc.find_all('h3', {'class':\"f3 color-fg-muted text-normal lh-condensed\"})\n",
        "  # Get the star_tags\n",
        "  star_tags = topic_doc.find_all('span', {'id':\"repo-stars-counter-star\"})\n",
        "  \n",
        "  # create dict object and then create DataFrame from it.\n",
        "  topic_repos_dict = {\n",
        "    'username' : [],\n",
        "    'repo_name': [],\n",
        "    'stars' : [],\n",
        "    'url' : []\n",
        "  }\n",
        "  for i in range(len(repo_tags)):\n",
        "    repo_info = get_repo_info(repo_tags[i], star_tags[i])\n",
        "    topic_repos_dict['username'].append(repo_info[0])\n",
        "    topic_repos_dict['repo_name'].append(repo_info[1])\n",
        "    topic_repos_dict['stars'].append(repo_info[2])\n",
        "    topic_repos_dict['url'].append(repo_info[3])\n",
        "  return pd.DataFrame(topic_repos_dict)\n",
        "\n",
        "\n"
      ],
      "metadata": {
        "id": "oyXq-eCc74FW"
      },
      "execution_count": null,
      "outputs": []
    },
    {
      "cell_type": "markdown",
      "source": [
        "```\n",
        "let's check it.\n",
        "```"
      ],
      "metadata": {
        "id": "-yyPpCELiNSm"
      }
    },
    {
      "cell_type": "code",
      "source": [
        "url4 = topic_urls[4] "
      ],
      "metadata": {
        "id": "SwhIoOngARBi"
      },
      "execution_count": null,
      "outputs": []
    },
    {
      "cell_type": "code",
      "source": [
        "url4"
      ],
      "metadata": {
        "colab": {
          "base_uri": "https://localhost:8080/",
          "height": 35
        },
        "id": "otg7npx-K4Co",
        "outputId": "c699b711-1ff7-4e5f-ccf6-010ea2770458"
      },
      "execution_count": null,
      "outputs": [
        {
          "output_type": "execute_result",
          "data": {
            "text/plain": [
              "'https://github.com/topics/android'"
            ],
            "application/vnd.google.colaboratory.intrinsic+json": {
              "type": "string"
            }
          },
          "metadata": {},
          "execution_count": 123
        }
      ]
    },
    {
      "cell_type": "code",
      "source": [
        "topic_doc4 = get_topic_page(url4)"
      ],
      "metadata": {
        "id": "n1KV9vooNhVi"
      },
      "execution_count": null,
      "outputs": []
    },
    {
      "cell_type": "code",
      "source": [
        "len(topic_doc4)"
      ],
      "metadata": {
        "colab": {
          "base_uri": "https://localhost:8080/"
        },
        "id": "XC3E33UQSycI",
        "outputId": "051c54c6-ac92-4294-837f-eb1075807975"
      },
      "execution_count": null,
      "outputs": [
        {
          "output_type": "execute_result",
          "data": {
            "text/plain": [
              "49"
            ]
          },
          "metadata": {},
          "execution_count": 125
        }
      ]
    },
    {
      "cell_type": "code",
      "source": [
        "df4 = get_topic_repos(topic_doc4)"
      ],
      "metadata": {
        "id": "Mh-IEASze0Fy"
      },
      "execution_count": null,
      "outputs": []
    },
    {
      "cell_type": "code",
      "source": [
        "df4[:3]"
      ],
      "metadata": {
        "colab": {
          "base_uri": "https://localhost:8080/",
          "height": 143
        },
        "id": "HiVb4TwsheUu",
        "outputId": "131d5c7d-769c-4f67-b3db-0851a7ddf631"
      },
      "execution_count": null,
      "outputs": [
        {
          "output_type": "execute_result",
          "data": {
            "text/plain": [
              "     username                     repo_name   stars  \\\n",
              "0     flutter                       flutter  142000   \n",
              "1   justjavac  free-programming-books-zh_CN   93600   \n",
              "2  Genymobile                        scrcpy   66800   \n",
              "\n",
              "                                                 url  \n",
              "0                 https://github.com/flutter/flutter  \n",
              "1  https://github.com/justjavac/free-programming-...  \n",
              "2               https://github.com/Genymobile/scrcpy  "
            ],
            "text/html": [
              "\n",
              "  <div id=\"df-c6d5c301-2a3d-489e-985a-54a8999971e7\">\n",
              "    <div class=\"colab-df-container\">\n",
              "      <div>\n",
              "<style scoped>\n",
              "    .dataframe tbody tr th:only-of-type {\n",
              "        vertical-align: middle;\n",
              "    }\n",
              "\n",
              "    .dataframe tbody tr th {\n",
              "        vertical-align: top;\n",
              "    }\n",
              "\n",
              "    .dataframe thead th {\n",
              "        text-align: right;\n",
              "    }\n",
              "</style>\n",
              "<table border=\"1\" class=\"dataframe\">\n",
              "  <thead>\n",
              "    <tr style=\"text-align: right;\">\n",
              "      <th></th>\n",
              "      <th>username</th>\n",
              "      <th>repo_name</th>\n",
              "      <th>stars</th>\n",
              "      <th>url</th>\n",
              "    </tr>\n",
              "  </thead>\n",
              "  <tbody>\n",
              "    <tr>\n",
              "      <th>0</th>\n",
              "      <td>flutter</td>\n",
              "      <td>flutter</td>\n",
              "      <td>142000</td>\n",
              "      <td>https://github.com/flutter/flutter</td>\n",
              "    </tr>\n",
              "    <tr>\n",
              "      <th>1</th>\n",
              "      <td>justjavac</td>\n",
              "      <td>free-programming-books-zh_CN</td>\n",
              "      <td>93600</td>\n",
              "      <td>https://github.com/justjavac/free-programming-...</td>\n",
              "    </tr>\n",
              "    <tr>\n",
              "      <th>2</th>\n",
              "      <td>Genymobile</td>\n",
              "      <td>scrcpy</td>\n",
              "      <td>66800</td>\n",
              "      <td>https://github.com/Genymobile/scrcpy</td>\n",
              "    </tr>\n",
              "  </tbody>\n",
              "</table>\n",
              "</div>\n",
              "      <button class=\"colab-df-convert\" onclick=\"convertToInteractive('df-c6d5c301-2a3d-489e-985a-54a8999971e7')\"\n",
              "              title=\"Convert this dataframe to an interactive table.\"\n",
              "              style=\"display:none;\">\n",
              "        \n",
              "  <svg xmlns=\"http://www.w3.org/2000/svg\" height=\"24px\"viewBox=\"0 0 24 24\"\n",
              "       width=\"24px\">\n",
              "    <path d=\"M0 0h24v24H0V0z\" fill=\"none\"/>\n",
              "    <path d=\"M18.56 5.44l.94 2.06.94-2.06 2.06-.94-2.06-.94-.94-2.06-.94 2.06-2.06.94zm-11 1L8.5 8.5l.94-2.06 2.06-.94-2.06-.94L8.5 2.5l-.94 2.06-2.06.94zm10 10l.94 2.06.94-2.06 2.06-.94-2.06-.94-.94-2.06-.94 2.06-2.06.94z\"/><path d=\"M17.41 7.96l-1.37-1.37c-.4-.4-.92-.59-1.43-.59-.52 0-1.04.2-1.43.59L10.3 9.45l-7.72 7.72c-.78.78-.78 2.05 0 2.83L4 21.41c.39.39.9.59 1.41.59.51 0 1.02-.2 1.41-.59l7.78-7.78 2.81-2.81c.8-.78.8-2.07 0-2.86zM5.41 20L4 18.59l7.72-7.72 1.47 1.35L5.41 20z\"/>\n",
              "  </svg>\n",
              "      </button>\n",
              "      \n",
              "  <style>\n",
              "    .colab-df-container {\n",
              "      display:flex;\n",
              "      flex-wrap:wrap;\n",
              "      gap: 12px;\n",
              "    }\n",
              "\n",
              "    .colab-df-convert {\n",
              "      background-color: #E8F0FE;\n",
              "      border: none;\n",
              "      border-radius: 50%;\n",
              "      cursor: pointer;\n",
              "      display: none;\n",
              "      fill: #1967D2;\n",
              "      height: 32px;\n",
              "      padding: 0 0 0 0;\n",
              "      width: 32px;\n",
              "    }\n",
              "\n",
              "    .colab-df-convert:hover {\n",
              "      background-color: #E2EBFA;\n",
              "      box-shadow: 0px 1px 2px rgba(60, 64, 67, 0.3), 0px 1px 3px 1px rgba(60, 64, 67, 0.15);\n",
              "      fill: #174EA6;\n",
              "    }\n",
              "\n",
              "    [theme=dark] .colab-df-convert {\n",
              "      background-color: #3B4455;\n",
              "      fill: #D2E3FC;\n",
              "    }\n",
              "\n",
              "    [theme=dark] .colab-df-convert:hover {\n",
              "      background-color: #434B5C;\n",
              "      box-shadow: 0px 1px 3px 1px rgba(0, 0, 0, 0.15);\n",
              "      filter: drop-shadow(0px 1px 2px rgba(0, 0, 0, 0.3));\n",
              "      fill: #FFFFFF;\n",
              "    }\n",
              "  </style>\n",
              "\n",
              "      <script>\n",
              "        const buttonEl =\n",
              "          document.querySelector('#df-c6d5c301-2a3d-489e-985a-54a8999971e7 button.colab-df-convert');\n",
              "        buttonEl.style.display =\n",
              "          google.colab.kernel.accessAllowed ? 'block' : 'none';\n",
              "\n",
              "        async function convertToInteractive(key) {\n",
              "          const element = document.querySelector('#df-c6d5c301-2a3d-489e-985a-54a8999971e7');\n",
              "          const dataTable =\n",
              "            await google.colab.kernel.invokeFunction('convertToInteractive',\n",
              "                                                     [key], {});\n",
              "          if (!dataTable) return;\n",
              "\n",
              "          const docLinkHtml = 'Like what you see? Visit the ' +\n",
              "            '<a target=\"_blank\" href=https://colab.research.google.com/notebooks/data_table.ipynb>data table notebook</a>'\n",
              "            + ' to learn more about interactive tables.';\n",
              "          element.innerHTML = '';\n",
              "          dataTable['output_type'] = 'display_data';\n",
              "          await google.colab.output.renderOutput(dataTable, element);\n",
              "          const docLink = document.createElement('div');\n",
              "          docLink.innerHTML = docLinkHtml;\n",
              "          element.appendChild(docLink);\n",
              "        }\n",
              "      </script>\n",
              "    </div>\n",
              "  </div>\n",
              "  "
            ]
          },
          "metadata": {},
          "execution_count": 127
        }
      ]
    },
    {
      "cell_type": "markdown",
      "source": [
        "```\n",
        "We can also write this in one line.\n",
        "```"
      ],
      "metadata": {
        "id": "2KuEQT5ciU5g"
      }
    },
    {
      "cell_type": "code",
      "source": [
        "topic_urls[3]"
      ],
      "metadata": {
        "colab": {
          "base_uri": "https://localhost:8080/",
          "height": 35
        },
        "id": "04QoXMlXjYsR",
        "outputId": "f4bc71f3-17fe-46c3-d31e-64922896950f"
      },
      "execution_count": null,
      "outputs": [
        {
          "output_type": "execute_result",
          "data": {
            "text/plain": [
              "'https://github.com/topics/amphp'"
            ],
            "application/vnd.google.colaboratory.intrinsic+json": {
              "type": "string"
            }
          },
          "metadata": {},
          "execution_count": 130
        }
      ]
    },
    {
      "cell_type": "code",
      "source": [
        "get_topic_repos(get_topic_page(topic_urls[3]))"
      ],
      "metadata": {
        "id": "LWd_v-xzhfve"
      },
      "execution_count": null,
      "outputs": []
    },
    {
      "cell_type": "markdown",
      "source": [
        "```\n",
        "- Above, we have created DataFrame object for 3rd url from the list.\n",
        "```"
      ],
      "metadata": {
        "id": "0aXQdp88islT"
      }
    },
    {
      "cell_type": "markdown",
      "source": [
        "```\n",
        "let's also write it to csv\n",
        "```"
      ],
      "metadata": {
        "id": "twaaPXwjjFRc"
      }
    },
    {
      "cell_type": "code",
      "source": [
        "get_topic_repos(get_topic_page(topic_urls[3])).to_csv('amphp.csv')"
      ],
      "metadata": {
        "id": "PfCeF7_ejI8q"
      },
      "execution_count": null,
      "outputs": []
    },
    {
      "cell_type": "markdown",
      "source": [
        "```\n",
        "CSV file with name amphp is created and stored in folder.\n",
        "```"
      ],
      "metadata": {
        "id": "qBVmOe9Jjsk6"
      }
    }
  ]
}