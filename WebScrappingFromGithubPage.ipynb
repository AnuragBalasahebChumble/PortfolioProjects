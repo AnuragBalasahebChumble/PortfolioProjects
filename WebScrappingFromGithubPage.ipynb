{
  "nbformat": 4,
  "nbformat_minor": 0,
  "metadata": {
    "colab": {
      "name": "WebScrappingFromGithubPage.ipynb",
      "provenance": [],
      "collapsed_sections": [
        "ar_jvgnPYP93",
        "Nv7F1Rz6ShgY"
      ],
      "toc_visible": true,
      "authorship_tag": "ABX9TyOi5Cujzm1R51boYwEa98YD",
      "include_colab_link": true
    },
    "kernelspec": {
      "name": "python3",
      "display_name": "Python 3"
    },
    "language_info": {
      "name": "python"
    }
  },
  "cells": [
    {
      "cell_type": "markdown",
      "metadata": {
        "id": "view-in-github",
        "colab_type": "text"
      },
      "source": [
        "<a href=\"https://colab.research.google.com/github/AnuragBalasahebChumble/PortfolioProjects/blob/main/WebScrappingFromGithubPage.ipynb\" target=\"_parent\"><img src=\"https://colab.research.google.com/assets/colab-badge.svg\" alt=\"Open In Colab\"/></a>"
      ]
    },
    {
      "cell_type": "markdown",
      "source": [
        "# Scrapping-github-topics-repositories\n",
        "\n"
      ],
      "metadata": {
        "id": "gSX61Av2ytNV"
      }
    },
    {
      "cell_type": "markdown",
      "source": [
        "##Pick a website and descirbe the objective.\n",
        "- Pick the website from which we want to scrape information/data.\n",
        "- Identify the information that we want to scrape."
      ],
      "metadata": {
        "id": "BT7Aj-s4zUYB"
      }
    },
    {
      "cell_type": "markdown",
      "source": [
        "### Project approach\n",
        "1. We are going to scrape the page here:\n",
        "https://github.com/topics\n",
        "\n",
        "2. We'll get the list topics. Then for each topic we'll get i)topic tittle, ii)topic page URL, iii)topic description.\n",
        "\n",
        "3. For each topic we'll try to get top 25 repositories in the topic from the topic page.\n",
        "\n",
        "4. For each repository we'll fetch the i)repo name, ii)username, iii)stars, iv)repo URL\n",
        "\n",
        "5. For each topic we'll create CSV file in the following format.\n",
        "```\n",
        "RepoName, UserName, Stars, RepoURL\n",
        "```"
      ],
      "metadata": {
        "id": "l3F18HgG1P6O"
      }
    },
    {
      "cell_type": "code",
      "source": [
        ""
      ],
      "metadata": {
        "id": "2HMocHIH0GiG"
      },
      "execution_count": 81,
      "outputs": []
    },
    {
      "cell_type": "markdown",
      "source": [
        "## Use the request library to download the webpage."
      ],
      "metadata": {
        "id": "sv4xOqW40H4g"
      }
    },
    {
      "cell_type": "code",
      "source": [
        "!pip install requests --quiet"
      ],
      "metadata": {
        "id": "GyrE3Xpq0Xmp"
      },
      "execution_count": 82,
      "outputs": []
    },
    {
      "cell_type": "code",
      "source": [
        "import requests"
      ],
      "metadata": {
        "id": "m2_L-UOM0YY3"
      },
      "execution_count": 83,
      "outputs": []
    },
    {
      "cell_type": "code",
      "source": [
        "topics_url = 'https://github.com/topics'"
      ],
      "metadata": {
        "id": "1lQeIhAA0YbT"
      },
      "execution_count": 84,
      "outputs": []
    },
    {
      "cell_type": "code",
      "source": [
        "response = requests.get(topics_url)"
      ],
      "metadata": {
        "id": "1xk7T8Le0Yd6"
      },
      "execution_count": 85,
      "outputs": []
    },
    {
      "cell_type": "code",
      "source": [
        "type(response)"
      ],
      "metadata": {
        "colab": {
          "base_uri": "https://localhost:8080/"
        },
        "id": "XadmFQ8WuTa4",
        "outputId": "81470eb1-be08-485f-ea79-c40fb08f8905"
      },
      "execution_count": 86,
      "outputs": [
        {
          "output_type": "execute_result",
          "data": {
            "text/plain": [
              "requests.models.Response"
            ]
          },
          "metadata": {},
          "execution_count": 86
        }
      ]
    },
    {
      "cell_type": "code",
      "source": [
        "response.status_code"
      ],
      "metadata": {
        "colab": {
          "base_uri": "https://localhost:8080/"
        },
        "id": "xlVp3GJjuGJK",
        "outputId": "9fa07162-91d4-4dd4-a446-4e6120fade9d"
      },
      "execution_count": 87,
      "outputs": [
        {
          "output_type": "execute_result",
          "data": {
            "text/plain": [
              "200"
            ]
          },
          "metadata": {},
          "execution_count": 87
        }
      ]
    },
    {
      "cell_type": "markdown",
      "source": [
        "###HTTPS status code response:\n",
        "let's check with the status code, if between 200to 299, than it means success.\n",
        "\n",
        "1. Informational responses (100–199)\n",
        "2. Successful responses (200–299)\n",
        "3. Redirection messages (300–399)\n",
        "4. Client error responses (400–499)\n",
        "5. Server error responses (500–599)"
      ],
      "metadata": {
        "id": "xu42DMhOuLTb"
      }
    },
    {
      "cell_type": "markdown",
      "source": [
        "```So, our request was a success.```"
      ],
      "metadata": {
        "id": "8DkDQM_NvrcH"
      }
    },
    {
      "cell_type": "code",
      "source": [
        "len(response.text)"
      ],
      "metadata": {
        "colab": {
          "base_uri": "https://localhost:8080/"
        },
        "id": "V-9mUeqguGVR",
        "outputId": "8f66f6ac-d7e4-48b2-a64d-3cfaba8ffdd4"
      },
      "execution_count": 88,
      "outputs": [
        {
          "output_type": "execute_result",
          "data": {
            "text/plain": [
              "141946"
            ]
          },
          "metadata": {},
          "execution_count": 88
        }
      ]
    },
    {
      "cell_type": "markdown",
      "source": [
        "```\n",
        "- The output tell's us that there are 1,42,040 Charachters.\n",
        "```\n"
      ],
      "metadata": {
        "id": "T6sO9aQIwYfl"
      }
    },
    {
      "cell_type": "code",
      "source": [
        "page_contents = response.text"
      ],
      "metadata": {
        "id": "7rdjO-i-yTGi"
      },
      "execution_count": 89,
      "outputs": []
    },
    {
      "cell_type": "code",
      "source": [
        "page_contents[:300]"
      ],
      "metadata": {
        "colab": {
          "base_uri": "https://localhost:8080/",
          "height": 87
        },
        "id": "3w59uVIlyTU5",
        "outputId": "54aa5ea1-3c0c-4d17-b166-ac93e99cb07a"
      },
      "execution_count": 90,
      "outputs": [
        {
          "output_type": "execute_result",
          "data": {
            "text/plain": [
              "'\\n\\n<!DOCTYPE html>\\n<html lang=\"en\" data-color-mode=\"auto\" data-light-theme=\"light\" data-dark-theme=\"dark\" data-a11y-animated-images=\"system\">\\n  <head>\\n    <meta charset=\"utf-8\">\\n  <link rel=\"dns-prefetch\" href=\"https://github.githubassets.com\">\\n  <link rel=\"dns-prefetch\" href=\"https://avatars.githubu'"
            ],
            "application/vnd.google.colaboratory.intrinsic+json": {
              "type": "string"
            }
          },
          "metadata": {},
          "execution_count": 90
        }
      ]
    },
    {
      "cell_type": "markdown",
      "source": [
        "```\n",
        "this is how the web page contents looks like. It is an HTML code.\n",
        "```"
      ],
      "metadata": {
        "id": "jklAnXvqyiEK"
      }
    },
    {
      "cell_type": "markdown",
      "source": [
        "## Use Beautiful Soup to parse and extract information. "
      ],
      "metadata": {
        "id": "RclgEsCi0cGO"
      }
    },
    {
      "cell_type": "code",
      "source": [
        "!pip install beautifulsoup4 --quiet "
      ],
      "metadata": {
        "id": "6yc3s1UU0leA"
      },
      "execution_count": 91,
      "outputs": []
    },
    {
      "cell_type": "code",
      "source": [
        "from bs4 import BeautifulSoup"
      ],
      "metadata": {
        "id": "A-afMb4L0rB_"
      },
      "execution_count": 92,
      "outputs": []
    },
    {
      "cell_type": "markdown",
      "source": [
        "```\n",
        "module name is bs4 and from that we are importing BeautifulSoup class.\n",
        "```"
      ],
      "metadata": {
        "id": "NM-18dgr7CHD"
      }
    },
    {
      "cell_type": "code",
      "source": [
        "doc = BeautifulSoup(page_contents, 'html.parser')"
      ],
      "metadata": {
        "id": "13etV8Mk0rK-"
      },
      "execution_count": 93,
      "outputs": []
    },
    {
      "cell_type": "code",
      "source": [
        "type(doc)"
      ],
      "metadata": {
        "colab": {
          "base_uri": "https://localhost:8080/"
        },
        "id": "7e0FuSOa0rT-",
        "outputId": "856db3b5-950e-4415-d7f9-8c42cb2f3002"
      },
      "execution_count": 94,
      "outputs": [
        {
          "output_type": "execute_result",
          "data": {
            "text/plain": [
              "bs4.BeautifulSoup"
            ]
          },
          "metadata": {},
          "execution_count": 94
        }
      ]
    },
    {
      "cell_type": "markdown",
      "source": [
        "```\n",
        "- Doc variable contains all the HTML code in the parsed format. It is a BeautifulSoup object.\n",
        "- Now, we can acutally find the things by querying this BeautifulSoup object or doc variable.\n",
        "```"
      ],
      "metadata": {
        "id": "__jLZ9RD8J9q"
      }
    },
    {
      "cell_type": "markdown",
      "source": [
        "### Let's fetch the topic titles from the page."
      ],
      "metadata": {
        "id": "ar_jvgnPYP93"
      }
    },
    {
      "cell_type": "code",
      "source": [
        "\n",
        "topic_title_tags = doc.find_all('p', {'class':\"f3 lh-condensed mb-0 mt-1 Link--primary\"})"
      ],
      "metadata": {
        "id": "TAkioHRi8m8X"
      },
      "execution_count": 95,
      "outputs": []
    },
    {
      "cell_type": "code",
      "source": [
        "len(topic_title_tags)"
      ],
      "metadata": {
        "colab": {
          "base_uri": "https://localhost:8080/"
        },
        "id": "D81mEc6JBB4B",
        "outputId": "67a34969-4f3e-4ac0-c5c8-f9f2a1f2fb05"
      },
      "execution_count": 96,
      "outputs": [
        {
          "output_type": "execute_result",
          "data": {
            "text/plain": [
              "30"
            ]
          },
          "metadata": {},
          "execution_count": 96
        }
      ]
    },
    {
      "cell_type": "markdown",
      "source": [
        "```\n",
        "We have 30 topics inside the page. \n",
        "```"
      ],
      "metadata": {
        "id": "cOp55hiFZaST"
      }
    },
    {
      "cell_type": "code",
      "source": [
        "topic_title_tags[:3]"
      ],
      "metadata": {
        "colab": {
          "base_uri": "https://localhost:8080/"
        },
        "id": "cmzD7qDAGYSB",
        "outputId": "23e0802d-21d7-4b72-8324-fd43fe95746e"
      },
      "execution_count": 97,
      "outputs": [
        {
          "output_type": "execute_result",
          "data": {
            "text/plain": [
              "[<p class=\"f3 lh-condensed mb-0 mt-1 Link--primary\">3D</p>,\n",
              " <p class=\"f3 lh-condensed mb-0 mt-1 Link--primary\">Ajax</p>,\n",
              " <p class=\"f3 lh-condensed mb-0 mt-1 Link--primary\">Algorithm</p>]"
            ]
          },
          "metadata": {},
          "execution_count": 97
        }
      ]
    },
    {
      "cell_type": "markdown",
      "source": [
        "```\n",
        "- Points to note:\n",
        "1. doc.find_all method return the list object.\n",
        "2. List object contains all the p tags of the required class.\n",
        "3. We have all the topics name inside the p tags. \n",
        "```"
      ],
      "metadata": {
        "id": "4azyQaaiGfb-"
      }
    },
    {
      "cell_type": "markdown",
      "source": [
        "### Now, let's fetch the \"topic description tags\".  "
      ],
      "metadata": {
        "id": "Nv7F1Rz6ShgY"
      }
    },
    {
      "cell_type": "code",
      "source": [
        "topic_description_tags = doc.find_all('p', {'class':\"f5 color-fg-muted mb-0 mt-1\"})"
      ],
      "metadata": {
        "id": "P_PuRCWlPpv9"
      },
      "execution_count": 98,
      "outputs": []
    },
    {
      "cell_type": "code",
      "source": [
        "len(topic_description_tags)"
      ],
      "metadata": {
        "colab": {
          "base_uri": "https://localhost:8080/"
        },
        "id": "bggguKwCPqTd",
        "outputId": "4a756636-ee6d-49a6-b222-ed6986494a11"
      },
      "execution_count": 99,
      "outputs": [
        {
          "output_type": "execute_result",
          "data": {
            "text/plain": [
              "30"
            ]
          },
          "metadata": {},
          "execution_count": 99
        }
      ]
    },
    {
      "cell_type": "markdown",
      "source": [
        "```\n",
        "We have got 30 descrptions, remember there are 30 topics & now we have descriptions for all of them.\n",
        "```"
      ],
      "metadata": {
        "id": "iAY7MzLhZicr"
      }
    },
    {
      "cell_type": "code",
      "source": [
        "topic_description_tags[:1]"
      ],
      "metadata": {
        "colab": {
          "base_uri": "https://localhost:8080/"
        },
        "id": "ZJrFcATnRGkE",
        "outputId": "8b865288-5b04-4ea8-c52f-5eecdad53441"
      },
      "execution_count": 100,
      "outputs": [
        {
          "output_type": "execute_result",
          "data": {
            "text/plain": [
              "[<p class=\"f5 color-fg-muted mb-0 mt-1\">\n",
              "           3D modeling is the process of virtually developing the surface and structure of a 3D object.\n",
              "         </p>]"
            ]
          },
          "metadata": {},
          "execution_count": 100
        }
      ]
    },
    {
      "cell_type": "markdown",
      "source": [
        "### Let's fetch the topic URL/link"
      ],
      "metadata": {
        "id": "wD0Lr-90Su5X"
      }
    },
    {
      "cell_type": "code",
      "source": [
        "topic_link_tags0 = topic_title_tags[0].parent"
      ],
      "metadata": {
        "id": "ni2JsBOFSc7y"
      },
      "execution_count": 101,
      "outputs": []
    },
    {
      "cell_type": "markdown",
      "source": [
        "```\n",
        "- We are using parent child relationship to get the required tag. \n",
        "- Using the indexing on the list object(topic_title_tags), we are tracing the parent class. \n",
        "```"
      ],
      "metadata": {
        "id": "WK1Ur67pU3XN"
      }
    },
    {
      "cell_type": "code",
      "source": [
        "topic_link_tags0"
      ],
      "metadata": {
        "colab": {
          "base_uri": "https://localhost:8080/"
        },
        "id": "lFfiCpp9SdEX",
        "outputId": "63a34bfa-f1ce-4050-833f-99e33ae0b823"
      },
      "execution_count": 102,
      "outputs": [
        {
          "output_type": "execute_result",
          "data": {
            "text/plain": [
              "<a class=\"no-underline flex-1 d-flex flex-column\" href=\"/topics/3d\">\n",
              "<p class=\"f3 lh-condensed mb-0 mt-1 Link--primary\">3D</p>\n",
              "<p class=\"f5 color-fg-muted mb-0 mt-1\">\n",
              "          3D modeling is the process of virtually developing the surface and structure of a 3D object.\n",
              "        </p>\n",
              "</a>"
            ]
          },
          "metadata": {},
          "execution_count": 102
        }
      ]
    },
    {
      "cell_type": "code",
      "source": [
        "type(topic_link_tags0)"
      ],
      "metadata": {
        "colab": {
          "base_uri": "https://localhost:8080/"
        },
        "id": "0-J-oS3TWnya",
        "outputId": "98355d02-6d22-4564-97cf-5200e243496a"
      },
      "execution_count": 103,
      "outputs": [
        {
          "output_type": "execute_result",
          "data": {
            "text/plain": [
              "bs4.element.Tag"
            ]
          },
          "metadata": {},
          "execution_count": 103
        }
      ]
    },
    {
      "cell_type": "markdown",
      "source": [
        "```\n",
        "We can treat 'bs4.element.Tag' object as dictionary. \n",
        "```"
      ],
      "metadata": {
        "id": "PqEEFiNLXfY_"
      }
    },
    {
      "cell_type": "code",
      "source": [
        "topic_link_tags0['href']"
      ],
      "metadata": {
        "colab": {
          "base_uri": "https://localhost:8080/",
          "height": 35
        },
        "id": "F86igK9SWn7O",
        "outputId": "e4a84b79-cbd1-4922-c6a1-1bd8d230e5af"
      },
      "execution_count": 104,
      "outputs": [
        {
          "output_type": "execute_result",
          "data": {
            "text/plain": [
              "'/topics/3d'"
            ],
            "application/vnd.google.colaboratory.intrinsic+json": {
              "type": "string"
            }
          },
          "metadata": {},
          "execution_count": 104
        }
      ]
    },
    {
      "cell_type": "markdown",
      "source": [
        "```\n",
        "let's build the URL for 1st topic on the web page.\n",
        "```"
      ],
      "metadata": {
        "id": "5b9gtV1pYvj_"
      }
    },
    {
      "cell_type": "code",
      "source": [
        "topic0_url = \"https://github.com\" + topic_link_tags0[\"href\"]"
      ],
      "metadata": {
        "id": "ZdQdkpzeTx3s"
      },
      "execution_count": 105,
      "outputs": []
    },
    {
      "cell_type": "code",
      "source": [
        "topic0_url"
      ],
      "metadata": {
        "colab": {
          "base_uri": "https://localhost:8080/",
          "height": 35
        },
        "id": "Nlfcal5oZP-n",
        "outputId": "ccb3d2d7-125b-4027-efa7-efdf6cffa773"
      },
      "execution_count": 106,
      "outputs": [
        {
          "output_type": "execute_result",
          "data": {
            "text/plain": [
              "'https://github.com/topics/3d'"
            ],
            "application/vnd.google.colaboratory.intrinsic+json": {
              "type": "string"
            }
          },
          "metadata": {},
          "execution_count": 106
        }
      ]
    },
    {
      "cell_type": "markdown",
      "source": [
        "```\n",
        "We are able to build the url to the github topic page for the \"topic 3D\".\n",
        "```"
      ],
      "metadata": {
        "id": "7xmbtuVTapG7"
      }
    },
    {
      "cell_type": "markdown",
      "source": [
        "```\n",
        "Let's make a list of topic titles.\n",
        "```"
      ],
      "metadata": {
        "id": "X2kRbu3kbYCp"
      }
    },
    {
      "cell_type": "code",
      "source": [
        "topic_titles = []\n",
        "for tag in topic_title_tags:\n",
        "  topic_titles.append(tag.text)\n",
        "topic_titles[:7]"
      ],
      "metadata": {
        "colab": {
          "base_uri": "https://localhost:8080/"
        },
        "id": "23WnwNAxbjt4",
        "outputId": "9e761932-c5e9-44c1-a991-1ea6c025cc80"
      },
      "execution_count": 107,
      "outputs": [
        {
          "output_type": "execute_result",
          "data": {
            "text/plain": [
              "['3D', 'Ajax', 'Algorithm', 'Amp', 'Android', 'Angular', 'Ansible']"
            ]
          },
          "metadata": {},
          "execution_count": 107
        }
      ]
    },
    {
      "cell_type": "markdown",
      "source": [
        "```\n",
        "Similary, let's make a list of topic descriptions. \n",
        "```"
      ],
      "metadata": {
        "id": "SEcxwfLecST_"
      }
    },
    {
      "cell_type": "code",
      "source": [
        "topic_descriptions = []\n",
        "for desc in topic_description_tags:\n",
        "  topic_descriptions.append(desc.text.strip())\n",
        "topic_descriptions[:3]\n"
      ],
      "metadata": {
        "colab": {
          "base_uri": "https://localhost:8080/"
        },
        "id": "kbSEjeDebj5R",
        "outputId": "a015ad8d-0e70-4789-ec6b-e49d198ae046"
      },
      "execution_count": 108,
      "outputs": [
        {
          "output_type": "execute_result",
          "data": {
            "text/plain": [
              "['3D modeling is the process of virtually developing the surface and structure of a 3D object.',\n",
              " 'Ajax is a technique for creating interactive web applications.',\n",
              " 'Algorithms are self-contained sequences that carry out a variety of tasks.']"
            ]
          },
          "metadata": {},
          "execution_count": 108
        }
      ]
    },
    {
      "cell_type": "markdown",
      "source": [
        "```\n",
        "Finaly let's build a list of topic URL's.\n",
        "```"
      ],
      "metadata": {
        "id": "roYs3lh7dt_F"
      }
    },
    {
      "cell_type": "code",
      "source": [
        "topic_urls = []\n",
        "for link in topic_title_tags:\n",
        "  url = \"https://github.com\" + link.parent['href']\n",
        "  topic_urls.append(url)\n",
        "topic_urls[:5]"
      ],
      "metadata": {
        "colab": {
          "base_uri": "https://localhost:8080/"
        },
        "id": "c3u-hdfncjGE",
        "outputId": "8e4e5b47-0b0f-4936-b3d1-ea1943e2d025"
      },
      "execution_count": 109,
      "outputs": [
        {
          "output_type": "execute_result",
          "data": {
            "text/plain": [
              "['https://github.com/topics/3d',\n",
              " 'https://github.com/topics/ajax',\n",
              " 'https://github.com/topics/algorithm',\n",
              " 'https://github.com/topics/amphp',\n",
              " 'https://github.com/topics/android']"
            ]
          },
          "metadata": {},
          "execution_count": 109
        }
      ]
    },
    {
      "cell_type": "markdown",
      "source": [
        "```\n",
        "- let's create a CSV file using this lists namely 1)topic titles 2)topic descriptions 3) topic urls.\n",
        "- We can use pandas data frame to create CSV file.\n",
        "```"
      ],
      "metadata": {
        "id": "8KiLbyfsfViS"
      }
    },
    {
      "cell_type": "code",
      "source": [
        "!pip install pandas --quiet"
      ],
      "metadata": {
        "id": "xTxDAkWLd_Ci"
      },
      "execution_count": 110,
      "outputs": []
    },
    {
      "cell_type": "code",
      "source": [
        "import pandas as pd\n"
      ],
      "metadata": {
        "id": "L_jYf2phgQb4"
      },
      "execution_count": 111,
      "outputs": []
    },
    {
      "cell_type": "code",
      "source": [
        "topics_dict = {\n",
        "    \"title\" : topic_titles,\n",
        "    \"description\" : topic_descriptions,\n",
        "    \"URL\" : topic_urls\n",
        "}"
      ],
      "metadata": {
        "id": "fRgxMOZpgxPm"
      },
      "execution_count": 112,
      "outputs": []
    },
    {
      "cell_type": "code",
      "source": [
        "topics_df = pd.DataFrame(topics_dict)"
      ],
      "metadata": {
        "id": "BNGVz7b0gUaY"
      },
      "execution_count": 113,
      "outputs": []
    },
    {
      "cell_type": "code",
      "source": [
        "topics_df[:7]"
      ],
      "metadata": {
        "colab": {
          "base_uri": "https://localhost:8080/",
          "height": 400
        },
        "id": "lvIESgjlgUx3",
        "outputId": "aa7f88f0-769d-44fc-8502-8aa8f5341a2e"
      },
      "execution_count": 114,
      "outputs": [
        {
          "output_type": "execute_result",
          "data": {
            "text/plain": [
              "       title                                        description  \\\n",
              "0         3D  3D modeling is the process of virtually develo...   \n",
              "1       Ajax  Ajax is a technique for creating interactive w...   \n",
              "2  Algorithm  Algorithms are self-contained sequences that c...   \n",
              "3        Amp  Amp is a non-blocking concurrency library for ...   \n",
              "4    Android  Android is an operating system built by Google...   \n",
              "5    Angular  Angular is an open source web application plat...   \n",
              "6    Ansible  Ansible is a simple and powerful automation en...   \n",
              "\n",
              "                                   URL  \n",
              "0         https://github.com/topics/3d  \n",
              "1       https://github.com/topics/ajax  \n",
              "2  https://github.com/topics/algorithm  \n",
              "3      https://github.com/topics/amphp  \n",
              "4    https://github.com/topics/android  \n",
              "5    https://github.com/topics/angular  \n",
              "6    https://github.com/topics/ansible  "
            ],
            "text/html": [
              "\n",
              "  <div id=\"df-4c80869c-fa31-4b74-adb3-aabbae308007\">\n",
              "    <div class=\"colab-df-container\">\n",
              "      <div>\n",
              "<style scoped>\n",
              "    .dataframe tbody tr th:only-of-type {\n",
              "        vertical-align: middle;\n",
              "    }\n",
              "\n",
              "    .dataframe tbody tr th {\n",
              "        vertical-align: top;\n",
              "    }\n",
              "\n",
              "    .dataframe thead th {\n",
              "        text-align: right;\n",
              "    }\n",
              "</style>\n",
              "<table border=\"1\" class=\"dataframe\">\n",
              "  <thead>\n",
              "    <tr style=\"text-align: right;\">\n",
              "      <th></th>\n",
              "      <th>title</th>\n",
              "      <th>description</th>\n",
              "      <th>URL</th>\n",
              "    </tr>\n",
              "  </thead>\n",
              "  <tbody>\n",
              "    <tr>\n",
              "      <th>0</th>\n",
              "      <td>3D</td>\n",
              "      <td>3D modeling is the process of virtually develo...</td>\n",
              "      <td>https://github.com/topics/3d</td>\n",
              "    </tr>\n",
              "    <tr>\n",
              "      <th>1</th>\n",
              "      <td>Ajax</td>\n",
              "      <td>Ajax is a technique for creating interactive w...</td>\n",
              "      <td>https://github.com/topics/ajax</td>\n",
              "    </tr>\n",
              "    <tr>\n",
              "      <th>2</th>\n",
              "      <td>Algorithm</td>\n",
              "      <td>Algorithms are self-contained sequences that c...</td>\n",
              "      <td>https://github.com/topics/algorithm</td>\n",
              "    </tr>\n",
              "    <tr>\n",
              "      <th>3</th>\n",
              "      <td>Amp</td>\n",
              "      <td>Amp is a non-blocking concurrency library for ...</td>\n",
              "      <td>https://github.com/topics/amphp</td>\n",
              "    </tr>\n",
              "    <tr>\n",
              "      <th>4</th>\n",
              "      <td>Android</td>\n",
              "      <td>Android is an operating system built by Google...</td>\n",
              "      <td>https://github.com/topics/android</td>\n",
              "    </tr>\n",
              "    <tr>\n",
              "      <th>5</th>\n",
              "      <td>Angular</td>\n",
              "      <td>Angular is an open source web application plat...</td>\n",
              "      <td>https://github.com/topics/angular</td>\n",
              "    </tr>\n",
              "    <tr>\n",
              "      <th>6</th>\n",
              "      <td>Ansible</td>\n",
              "      <td>Ansible is a simple and powerful automation en...</td>\n",
              "      <td>https://github.com/topics/ansible</td>\n",
              "    </tr>\n",
              "  </tbody>\n",
              "</table>\n",
              "</div>\n",
              "      <button class=\"colab-df-convert\" onclick=\"convertToInteractive('df-4c80869c-fa31-4b74-adb3-aabbae308007')\"\n",
              "              title=\"Convert this dataframe to an interactive table.\"\n",
              "              style=\"display:none;\">\n",
              "        \n",
              "  <svg xmlns=\"http://www.w3.org/2000/svg\" height=\"24px\"viewBox=\"0 0 24 24\"\n",
              "       width=\"24px\">\n",
              "    <path d=\"M0 0h24v24H0V0z\" fill=\"none\"/>\n",
              "    <path d=\"M18.56 5.44l.94 2.06.94-2.06 2.06-.94-2.06-.94-.94-2.06-.94 2.06-2.06.94zm-11 1L8.5 8.5l.94-2.06 2.06-.94-2.06-.94L8.5 2.5l-.94 2.06-2.06.94zm10 10l.94 2.06.94-2.06 2.06-.94-2.06-.94-.94-2.06-.94 2.06-2.06.94z\"/><path d=\"M17.41 7.96l-1.37-1.37c-.4-.4-.92-.59-1.43-.59-.52 0-1.04.2-1.43.59L10.3 9.45l-7.72 7.72c-.78.78-.78 2.05 0 2.83L4 21.41c.39.39.9.59 1.41.59.51 0 1.02-.2 1.41-.59l7.78-7.78 2.81-2.81c.8-.78.8-2.07 0-2.86zM5.41 20L4 18.59l7.72-7.72 1.47 1.35L5.41 20z\"/>\n",
              "  </svg>\n",
              "      </button>\n",
              "      \n",
              "  <style>\n",
              "    .colab-df-container {\n",
              "      display:flex;\n",
              "      flex-wrap:wrap;\n",
              "      gap: 12px;\n",
              "    }\n",
              "\n",
              "    .colab-df-convert {\n",
              "      background-color: #E8F0FE;\n",
              "      border: none;\n",
              "      border-radius: 50%;\n",
              "      cursor: pointer;\n",
              "      display: none;\n",
              "      fill: #1967D2;\n",
              "      height: 32px;\n",
              "      padding: 0 0 0 0;\n",
              "      width: 32px;\n",
              "    }\n",
              "\n",
              "    .colab-df-convert:hover {\n",
              "      background-color: #E2EBFA;\n",
              "      box-shadow: 0px 1px 2px rgba(60, 64, 67, 0.3), 0px 1px 3px 1px rgba(60, 64, 67, 0.15);\n",
              "      fill: #174EA6;\n",
              "    }\n",
              "\n",
              "    [theme=dark] .colab-df-convert {\n",
              "      background-color: #3B4455;\n",
              "      fill: #D2E3FC;\n",
              "    }\n",
              "\n",
              "    [theme=dark] .colab-df-convert:hover {\n",
              "      background-color: #434B5C;\n",
              "      box-shadow: 0px 1px 3px 1px rgba(0, 0, 0, 0.15);\n",
              "      filter: drop-shadow(0px 1px 2px rgba(0, 0, 0, 0.3));\n",
              "      fill: #FFFFFF;\n",
              "    }\n",
              "  </style>\n",
              "\n",
              "      <script>\n",
              "        const buttonEl =\n",
              "          document.querySelector('#df-4c80869c-fa31-4b74-adb3-aabbae308007 button.colab-df-convert');\n",
              "        buttonEl.style.display =\n",
              "          google.colab.kernel.accessAllowed ? 'block' : 'none';\n",
              "\n",
              "        async function convertToInteractive(key) {\n",
              "          const element = document.querySelector('#df-4c80869c-fa31-4b74-adb3-aabbae308007');\n",
              "          const dataTable =\n",
              "            await google.colab.kernel.invokeFunction('convertToInteractive',\n",
              "                                                     [key], {});\n",
              "          if (!dataTable) return;\n",
              "\n",
              "          const docLinkHtml = 'Like what you see? Visit the ' +\n",
              "            '<a target=\"_blank\" href=https://colab.research.google.com/notebooks/data_table.ipynb>data table notebook</a>'\n",
              "            + ' to learn more about interactive tables.';\n",
              "          element.innerHTML = '';\n",
              "          dataTable['output_type'] = 'display_data';\n",
              "          await google.colab.output.renderOutput(dataTable, element);\n",
              "          const docLink = document.createElement('div');\n",
              "          docLink.innerHTML = docLinkHtml;\n",
              "          element.appendChild(docLink);\n",
              "        }\n",
              "      </script>\n",
              "    </div>\n",
              "  </div>\n",
              "  "
            ]
          },
          "metadata": {},
          "execution_count": 114
        }
      ]
    },
    {
      "cell_type": "code",
      "source": [
        ""
      ],
      "metadata": {
        "id": "TjOYkqzdhi2G"
      },
      "execution_count": 114,
      "outputs": []
    },
    {
      "cell_type": "code",
      "source": [
        ""
      ],
      "metadata": {
        "id": "2fR5OuLfhjTK"
      },
      "execution_count": 114,
      "outputs": []
    },
    {
      "cell_type": "code",
      "source": [
        ""
      ],
      "metadata": {
        "id": "DNmzeUqJhjcd"
      },
      "execution_count": 114,
      "outputs": []
    },
    {
      "cell_type": "markdown",
      "source": [
        "## Create CSV file with extracted information."
      ],
      "metadata": {
        "id": "j78-UcYD0rt2"
      }
    },
    {
      "cell_type": "code",
      "source": [
        "topics_df.to_csv('topics.csv', index=None) # in the bracket is the name of the csv file."
      ],
      "metadata": {
        "id": "iy89uBEO0vhh"
      },
      "execution_count": 115,
      "outputs": []
    },
    {
      "cell_type": "markdown",
      "source": [
        "```\n",
        "- Now, we'll go to each and every topic page, remember we have 30 topics. \n",
        "- So, we'll got to each and every topic page and fetch some information from there.\n",
        "```"
      ],
      "metadata": {
        "id": "qlIO-xwSj5kQ"
      }
    },
    {
      "cell_type": "markdown",
      "source": [
        "## Getting information out of a topic page."
      ],
      "metadata": {
        "id": "yNfwZ1K1kZH9"
      }
    },
    {
      "cell_type": "code",
      "source": [
        "topic_page_url = topic_urls[0]"
      ],
      "metadata": {
        "id": "uOIBwJmujFZc"
      },
      "execution_count": 116,
      "outputs": []
    },
    {
      "cell_type": "code",
      "source": [
        "topic_page_url"
      ],
      "metadata": {
        "colab": {
          "base_uri": "https://localhost:8080/",
          "height": 35
        },
        "id": "AKXzjiyZ3aJY",
        "outputId": "02d658a9-8356-4221-92fa-5a03237852ff"
      },
      "execution_count": 117,
      "outputs": [
        {
          "output_type": "execute_result",
          "data": {
            "text/plain": [
              "'https://github.com/topics/3d'"
            ],
            "application/vnd.google.colaboratory.intrinsic+json": {
              "type": "string"
            }
          },
          "metadata": {},
          "execution_count": 117
        }
      ]
    },
    {
      "cell_type": "markdown",
      "source": [
        "```\n",
        "We'll just be repeting the process to get the web page parsed.\n",
        "```"
      ],
      "metadata": {
        "id": "oUbISxEA3tnA"
      }
    },
    {
      "cell_type": "code",
      "source": [
        "response = requests.get(topic_page_url)"
      ],
      "metadata": {
        "id": "JNfPnH4N3d1N"
      },
      "execution_count": 118,
      "outputs": []
    },
    {
      "cell_type": "markdown",
      "source": [
        "```\n",
        "let's check if the response was successful using status code.\n",
        "```"
      ],
      "metadata": {
        "id": "ZQbKECUZ4gTO"
      }
    },
    {
      "cell_type": "code",
      "source": [
        "response.status_code"
      ],
      "metadata": {
        "colab": {
          "base_uri": "https://localhost:8080/"
        },
        "id": "t62sCx5_4Okn",
        "outputId": "7d92b07f-b2d8-451f-cd25-425daade2767"
      },
      "execution_count": 119,
      "outputs": [
        {
          "output_type": "execute_result",
          "data": {
            "text/plain": [
              "200"
            ]
          },
          "metadata": {},
          "execution_count": 119
        }
      ]
    },
    {
      "cell_type": "code",
      "source": [
        "len(response.text)"
      ],
      "metadata": {
        "colab": {
          "base_uri": "https://localhost:8080/"
        },
        "id": "rqwsr0tk4WeE",
        "outputId": "05b9f6b8-ddf8-4198-e299-d8d65a95b712"
      },
      "execution_count": 120,
      "outputs": [
        {
          "output_type": "execute_result",
          "data": {
            "text/plain": [
              "644877"
            ]
          },
          "metadata": {},
          "execution_count": 120
        }
      ]
    },
    {
      "cell_type": "markdown",
      "source": [
        "```\n",
        "let's parse it using Beautiful Soup to fetch useful information out of it.\n",
        "```"
      ],
      "metadata": {
        "id": "Pxs-QOzp6jx3"
      }
    },
    {
      "cell_type": "code",
      "source": [
        "  topic_doc = BeautifulSoup(response.text, 'html.parser')"
      ],
      "metadata": {
        "id": "NU7haMnB6Xo5"
      },
      "execution_count": 121,
      "outputs": []
    },
    {
      "cell_type": "markdown",
      "source": [
        "```\n",
        "We want to fetch the following information from the page:\n",
        "i)UserName\n",
        "ii)RepositoryName\n",
        "iii)URL\n",
        "iv)StarCount\n",
        "```"
      ],
      "metadata": {
        "id": "Zp1FdUWH7G6n"
      }
    },
    {
      "cell_type": "code",
      "source": [
        "repo_tags = topic_doc.find_all('h3', {'class':\"f3 color-fg-muted text-normal lh-condensed\"})"
      ],
      "metadata": {
        "id": "cSRSMQqD678A"
      },
      "execution_count": 122,
      "outputs": []
    },
    {
      "cell_type": "code",
      "source": [
        "len(repo_tags)"
      ],
      "metadata": {
        "colab": {
          "base_uri": "https://localhost:8080/"
        },
        "id": "oeefhbbeVJR2",
        "outputId": "0ef1901f-f178-4c14-8b56-fa868ebc05d1"
      },
      "execution_count": 123,
      "outputs": [
        {
          "output_type": "execute_result",
          "data": {
            "text/plain": [
              "30"
            ]
          },
          "metadata": {},
          "execution_count": 123
        }
      ]
    },
    {
      "cell_type": "markdown",
      "source": [
        "```\n",
        "- There are 30 repositories on the page\n",
        "- repo_tags contains userame, repository name, link to repository(URL).\n",
        "```"
      ],
      "metadata": {
        "id": "osVA22Z8VW3i"
      }
    },
    {
      "cell_type": "code",
      "source": [
        "repo_tags[0]"
      ],
      "metadata": {
        "colab": {
          "base_uri": "https://localhost:8080/"
        },
        "id": "p__sfLBpVOuY",
        "outputId": "f545c9b5-4cd9-4d19-ec03-7acdc15c5423"
      },
      "execution_count": 124,
      "outputs": [
        {
          "output_type": "execute_result",
          "data": {
            "text/plain": [
              "<h3 class=\"f3 color-fg-muted text-normal lh-condensed\">\n",
              "<a data-ga-click=\"Explore, go to repository owner, location:explore feed\" data-hydro-click='{\"event_type\":\"explore.click\",\"payload\":{\"click_context\":\"REPOSITORY_CARD\",\"click_target\":\"OWNER\",\"click_visual_representation\":\"REPOSITORY_OWNER_HEADING\",\"actor_id\":null,\"record_id\":97088,\"originating_url\":\"https://github.com/topics/3d\",\"user_id\":null}}' data-hydro-click-hmac=\"4bdbc49d3c05ae7f70b531fbce709a384200b0768554e0172950286a8db30940\" data-turbo=\"false\" data-view-component=\"true\" href=\"/mrdoob\">\n",
              "            mrdoob\n",
              "</a>          /\n",
              "          <a class=\"text-bold wb-break-word\" data-ga-click=\"Explore, go to repository, location:explore feed\" data-hydro-click='{\"event_type\":\"explore.click\",\"payload\":{\"click_context\":\"REPOSITORY_CARD\",\"click_target\":\"REPOSITORY\",\"click_visual_representation\":\"REPOSITORY_NAME_HEADING\",\"actor_id\":null,\"record_id\":576201,\"originating_url\":\"https://github.com/topics/3d\",\"user_id\":null}}' data-hydro-click-hmac=\"517d3d5cb9d89752156923904a4238816bc9b51ab7772f3e3644ce897d8dd4e5\" data-turbo=\"false\" data-view-component=\"true\" href=\"/mrdoob/three.js\">\n",
              "            three.js\n",
              "</a> </h3>"
            ]
          },
          "metadata": {},
          "execution_count": 124
        }
      ]
    },
    {
      "cell_type": "code",
      "source": [
        "a_tags = repo_tags[0].find_all('a')"
      ],
      "metadata": {
        "id": "jdCEKnksXYEm"
      },
      "execution_count": 125,
      "outputs": []
    },
    {
      "cell_type": "code",
      "source": [
        "a_tags[0].text.strip()"
      ],
      "metadata": {
        "colab": {
          "base_uri": "https://localhost:8080/",
          "height": 35
        },
        "id": "DaqBWUQCXjoT",
        "outputId": "07cec533-25d4-4ff6-c37b-39d4063a402c"
      },
      "execution_count": 126,
      "outputs": [
        {
          "output_type": "execute_result",
          "data": {
            "text/plain": [
              "'mrdoob'"
            ],
            "application/vnd.google.colaboratory.intrinsic+json": {
              "type": "string"
            }
          },
          "metadata": {},
          "execution_count": 126
        }
      ]
    },
    {
      "cell_type": "markdown",
      "source": [
        "```\n",
        "this gives userName\n",
        "```"
      ],
      "metadata": {
        "id": "ofOSJcJtYIA9"
      }
    },
    {
      "cell_type": "code",
      "source": [
        "a_tags[1].text.strip()"
      ],
      "metadata": {
        "colab": {
          "base_uri": "https://localhost:8080/",
          "height": 35
        },
        "id": "LrZUFO4qXxrz",
        "outputId": "954cd6fd-079c-4344-c832-c41fd8781706"
      },
      "execution_count": 127,
      "outputs": [
        {
          "output_type": "execute_result",
          "data": {
            "text/plain": [
              "'three.js'"
            ],
            "application/vnd.google.colaboratory.intrinsic+json": {
              "type": "string"
            }
          },
          "metadata": {},
          "execution_count": 127
        }
      ]
    },
    {
      "cell_type": "markdown",
      "source": [
        "```\n",
        "this gives repoName\n",
        "```"
      ],
      "metadata": {
        "id": "QjeHClyMYSLF"
      }
    },
    {
      "cell_type": "code",
      "source": [
        "base_url = \"https://github.com\"\n",
        "repo_url = base_url + a_tags[1]['href']"
      ],
      "metadata": {
        "id": "gOTPZMXzYQp7"
      },
      "execution_count": 128,
      "outputs": []
    },
    {
      "cell_type": "code",
      "source": [
        "repo_url"
      ],
      "metadata": {
        "colab": {
          "base_uri": "https://localhost:8080/",
          "height": 35
        },
        "id": "byqDz-tkYlx7",
        "outputId": "a29ab3d2-c5df-4d93-c040-1ec11ab4c504"
      },
      "execution_count": 129,
      "outputs": [
        {
          "output_type": "execute_result",
          "data": {
            "text/plain": [
              "'https://github.com/mrdoob/three.js'"
            ],
            "application/vnd.google.colaboratory.intrinsic+json": {
              "type": "string"
            }
          },
          "metadata": {},
          "execution_count": 129
        }
      ]
    },
    {
      "cell_type": "markdown",
      "source": [
        "```\n",
        "- WE have been able to construct the URL for repository page for the first sub-topic in 3D topic's page.\n",
        "```"
      ],
      "metadata": {
        "id": "mTpU0LXIZHnS"
      }
    },
    {
      "cell_type": "code",
      "source": [
        "star_tags = topic_doc.find_all('span', {'id':\"repo-stars-counter-star\"})"
      ],
      "metadata": {
        "id": "RmnBZb2kY6Y6"
      },
      "execution_count": 163,
      "outputs": []
    },
    {
      "cell_type": "code",
      "source": [
        "len(star_tags)"
      ],
      "metadata": {
        "colab": {
          "base_uri": "https://localhost:8080/"
        },
        "id": "0SgPGlshaN9A",
        "outputId": "804dd711-1839-47b6-d04d-7631be8b297f"
      },
      "execution_count": 164,
      "outputs": [
        {
          "output_type": "execute_result",
          "data": {
            "text/plain": [
              "30"
            ]
          },
          "metadata": {},
          "execution_count": 164
        }
      ]
    },
    {
      "cell_type": "markdown",
      "source": [
        "```\n",
        "len is 30, so we are good to go.\n",
        "```"
      ],
      "metadata": {
        "id": "A3yjzxwcb9_f"
      }
    },
    {
      "cell_type": "code",
      "source": [
        "star_tags[29].text"
      ],
      "metadata": {
        "colab": {
          "base_uri": "https://localhost:8080/",
          "height": 35
        },
        "id": "hf91W3ZJaQMX",
        "outputId": "45c5d80b-8592-461d-8a3a-7569f00bf51d"
      },
      "execution_count": 167,
      "outputs": [
        {
          "output_type": "execute_result",
          "data": {
            "text/plain": [
              "'3k'"
            ],
            "application/vnd.google.colaboratory.intrinsic+json": {
              "type": "string"
            }
          },
          "metadata": {},
          "execution_count": 167
        }
      ]
    },
    {
      "cell_type": "markdown",
      "source": [
        "```\n",
        "let's write a function to convert the star count into int type\n",
        "```"
      ],
      "metadata": {
        "id": "GiGNzAgKdH6N"
      }
    },
    {
      "cell_type": "code",
      "source": [
        "def parse_star_count(stars_str):\n",
        "  stars_str = stars_str.strip() # better to always strip first while converting to int. \n",
        "  if stars_str[-1] == 'k':\n",
        "    return int(float(stars_str[:-1]) * 1000)\n",
        "  return int(stars_str)"
      ],
      "metadata": {
        "id": "EJrt4YFDbg-t"
      },
      "execution_count": 133,
      "outputs": []
    },
    {
      "cell_type": "code",
      "source": [
        "print(parse_star_count(star_tags[0].text))"
      ],
      "metadata": {
        "colab": {
          "base_uri": "https://localhost:8080/"
        },
        "id": "idp8HdYVdi2Z",
        "outputId": "8359b533-bd6e-4c26-9b87-5f0f5b582dd1"
      },
      "execution_count": 169,
      "outputs": [
        {
          "output_type": "stream",
          "name": "stdout",
          "text": [
            "83100\n"
          ]
        }
      ]
    },
    {
      "cell_type": "markdown",
      "source": [
        "```\n",
        "Let's define a function \"get_repo_info()\"\n",
        "```"
      ],
      "metadata": {
        "id": "Fnx03-YWfh1G"
      }
    },
    {
      "cell_type": "code",
      "source": [
        "def get_repo_info(h3_tags, star_tags):\n",
        "  a_tags = h3_tags.find_all('a')  \n",
        "  username = a_tags[0].text.strip()\n",
        "  repo_name = a_tags[1].text.strip()\n",
        "  repo_url = base_url + a_tags[1]['href']\n",
        "  stars = parse_star_count(star_tags.text)\n",
        "  return [username, repo_name, stars, repo_url]\n"
      ],
      "metadata": {
        "id": "pQzdKqUAdpPJ"
      },
      "execution_count": 170,
      "outputs": []
    },
    {
      "cell_type": "code",
      "source": [
        "print(get_repo_info(repo_tags[0], star_tags[0]))"
      ],
      "metadata": {
        "colab": {
          "base_uri": "https://localhost:8080/"
        },
        "id": "XZ3NC_lZzDbf",
        "outputId": "1632443b-948d-4ca0-d8f0-80b5d7a6a566"
      },
      "execution_count": 171,
      "outputs": [
        {
          "output_type": "stream",
          "name": "stdout",
          "text": [
            "['mrdoob', 'three.js', 83100, 'https://github.com/mrdoob/three.js']\n"
          ]
        }
      ]
    },
    {
      "cell_type": "markdown",
      "source": [
        "```\n",
        "- We have programmaticaly achieved the results for the 'first sub-topic' from the topic 3D.\n",
        "- We can use for loop to get the results for all the sub_topic for the topic 3D. \n",
        "```"
      ],
      "metadata": {
        "id": "1em48DEt07VX"
      }
    },
    {
      "cell_type": "code",
      "source": [
        "topic_repos_dict = {\n",
        "    'username' : [],\n",
        "    'repo_name': [],\n",
        "    'stars' : [],\n",
        "    'url' : []\n",
        "}\n",
        "for i in range(len(repo_tags)):\n",
        "  repo_info = get_repo_info(repo_tags[i], star_tags[i])\n",
        "  topic_repos_dict['username'].append(repo_info[0])\n",
        "  topic_repos_dict['repo_name'].append(repo_info[1])\n",
        "  topic_repos_dict['stars'].append(repo_info[2])\n",
        "  topic_repos_dict['url'].append(repo_info[3])\n"
      ],
      "metadata": {
        "id": "5mjLrzCCzGEf"
      },
      "execution_count": 172,
      "outputs": []
    },
    {
      "cell_type": "code",
      "source": [
        "topic_repos_dict"
      ],
      "metadata": {
        "id": "0m25OPgy3yMe"
      },
      "execution_count": null,
      "outputs": []
    },
    {
      "cell_type": "markdown",
      "source": [
        "```\n",
        "let's convert the dictionary into dataframe\n",
        "```"
      ],
      "metadata": {
        "id": "kwrHBGim7Ze5"
      }
    },
    {
      "cell_type": "code",
      "source": [
        "topic_repos_df = pd.DataFrame(topic_repos_dict)"
      ],
      "metadata": {
        "id": "AGm6B4gk7Ew4"
      },
      "execution_count": 174,
      "outputs": []
    },
    {
      "cell_type": "code",
      "source": [
        "topic_repos_df[:3]"
      ],
      "metadata": {
        "colab": {
          "base_uri": "https://localhost:8080/",
          "height": 143
        },
        "id": "S5m2UbQd7xeP",
        "outputId": "b8862aa4-8660-4a6c-9d5b-1d87b35204f5"
      },
      "execution_count": 175,
      "outputs": [
        {
          "output_type": "execute_result",
          "data": {
            "text/plain": [
              "  username          repo_name  stars  \\\n",
              "0   mrdoob           three.js  83100   \n",
              "1   libgdx             libgdx  20100   \n",
              "2   pmndrs  react-three-fiber  18500   \n",
              "\n",
              "                                           url  \n",
              "0           https://github.com/mrdoob/three.js  \n",
              "1             https://github.com/libgdx/libgdx  \n",
              "2  https://github.com/pmndrs/react-three-fiber  "
            ],
            "text/html": [
              "\n",
              "  <div id=\"df-cd70bbda-a8b8-4ede-9954-59ca17ed0000\">\n",
              "    <div class=\"colab-df-container\">\n",
              "      <div>\n",
              "<style scoped>\n",
              "    .dataframe tbody tr th:only-of-type {\n",
              "        vertical-align: middle;\n",
              "    }\n",
              "\n",
              "    .dataframe tbody tr th {\n",
              "        vertical-align: top;\n",
              "    }\n",
              "\n",
              "    .dataframe thead th {\n",
              "        text-align: right;\n",
              "    }\n",
              "</style>\n",
              "<table border=\"1\" class=\"dataframe\">\n",
              "  <thead>\n",
              "    <tr style=\"text-align: right;\">\n",
              "      <th></th>\n",
              "      <th>username</th>\n",
              "      <th>repo_name</th>\n",
              "      <th>stars</th>\n",
              "      <th>url</th>\n",
              "    </tr>\n",
              "  </thead>\n",
              "  <tbody>\n",
              "    <tr>\n",
              "      <th>0</th>\n",
              "      <td>mrdoob</td>\n",
              "      <td>three.js</td>\n",
              "      <td>83100</td>\n",
              "      <td>https://github.com/mrdoob/three.js</td>\n",
              "    </tr>\n",
              "    <tr>\n",
              "      <th>1</th>\n",
              "      <td>libgdx</td>\n",
              "      <td>libgdx</td>\n",
              "      <td>20100</td>\n",
              "      <td>https://github.com/libgdx/libgdx</td>\n",
              "    </tr>\n",
              "    <tr>\n",
              "      <th>2</th>\n",
              "      <td>pmndrs</td>\n",
              "      <td>react-three-fiber</td>\n",
              "      <td>18500</td>\n",
              "      <td>https://github.com/pmndrs/react-three-fiber</td>\n",
              "    </tr>\n",
              "  </tbody>\n",
              "</table>\n",
              "</div>\n",
              "      <button class=\"colab-df-convert\" onclick=\"convertToInteractive('df-cd70bbda-a8b8-4ede-9954-59ca17ed0000')\"\n",
              "              title=\"Convert this dataframe to an interactive table.\"\n",
              "              style=\"display:none;\">\n",
              "        \n",
              "  <svg xmlns=\"http://www.w3.org/2000/svg\" height=\"24px\"viewBox=\"0 0 24 24\"\n",
              "       width=\"24px\">\n",
              "    <path d=\"M0 0h24v24H0V0z\" fill=\"none\"/>\n",
              "    <path d=\"M18.56 5.44l.94 2.06.94-2.06 2.06-.94-2.06-.94-.94-2.06-.94 2.06-2.06.94zm-11 1L8.5 8.5l.94-2.06 2.06-.94-2.06-.94L8.5 2.5l-.94 2.06-2.06.94zm10 10l.94 2.06.94-2.06 2.06-.94-2.06-.94-.94-2.06-.94 2.06-2.06.94z\"/><path d=\"M17.41 7.96l-1.37-1.37c-.4-.4-.92-.59-1.43-.59-.52 0-1.04.2-1.43.59L10.3 9.45l-7.72 7.72c-.78.78-.78 2.05 0 2.83L4 21.41c.39.39.9.59 1.41.59.51 0 1.02-.2 1.41-.59l7.78-7.78 2.81-2.81c.8-.78.8-2.07 0-2.86zM5.41 20L4 18.59l7.72-7.72 1.47 1.35L5.41 20z\"/>\n",
              "  </svg>\n",
              "      </button>\n",
              "      \n",
              "  <style>\n",
              "    .colab-df-container {\n",
              "      display:flex;\n",
              "      flex-wrap:wrap;\n",
              "      gap: 12px;\n",
              "    }\n",
              "\n",
              "    .colab-df-convert {\n",
              "      background-color: #E8F0FE;\n",
              "      border: none;\n",
              "      border-radius: 50%;\n",
              "      cursor: pointer;\n",
              "      display: none;\n",
              "      fill: #1967D2;\n",
              "      height: 32px;\n",
              "      padding: 0 0 0 0;\n",
              "      width: 32px;\n",
              "    }\n",
              "\n",
              "    .colab-df-convert:hover {\n",
              "      background-color: #E2EBFA;\n",
              "      box-shadow: 0px 1px 2px rgba(60, 64, 67, 0.3), 0px 1px 3px 1px rgba(60, 64, 67, 0.15);\n",
              "      fill: #174EA6;\n",
              "    }\n",
              "\n",
              "    [theme=dark] .colab-df-convert {\n",
              "      background-color: #3B4455;\n",
              "      fill: #D2E3FC;\n",
              "    }\n",
              "\n",
              "    [theme=dark] .colab-df-convert:hover {\n",
              "      background-color: #434B5C;\n",
              "      box-shadow: 0px 1px 3px 1px rgba(0, 0, 0, 0.15);\n",
              "      filter: drop-shadow(0px 1px 2px rgba(0, 0, 0, 0.3));\n",
              "      fill: #FFFFFF;\n",
              "    }\n",
              "  </style>\n",
              "\n",
              "      <script>\n",
              "        const buttonEl =\n",
              "          document.querySelector('#df-cd70bbda-a8b8-4ede-9954-59ca17ed0000 button.colab-df-convert');\n",
              "        buttonEl.style.display =\n",
              "          google.colab.kernel.accessAllowed ? 'block' : 'none';\n",
              "\n",
              "        async function convertToInteractive(key) {\n",
              "          const element = document.querySelector('#df-cd70bbda-a8b8-4ede-9954-59ca17ed0000');\n",
              "          const dataTable =\n",
              "            await google.colab.kernel.invokeFunction('convertToInteractive',\n",
              "                                                     [key], {});\n",
              "          if (!dataTable) return;\n",
              "\n",
              "          const docLinkHtml = 'Like what you see? Visit the ' +\n",
              "            '<a target=\"_blank\" href=https://colab.research.google.com/notebooks/data_table.ipynb>data table notebook</a>'\n",
              "            + ' to learn more about interactive tables.';\n",
              "          element.innerHTML = '';\n",
              "          dataTable['output_type'] = 'display_data';\n",
              "          await google.colab.output.renderOutput(dataTable, element);\n",
              "          const docLink = document.createElement('div');\n",
              "          docLink.innerHTML = docLinkHtml;\n",
              "          element.appendChild(docLink);\n",
              "        }\n",
              "      </script>\n",
              "    </div>\n",
              "  </div>\n",
              "  "
            ]
          },
          "metadata": {},
          "execution_count": 175
        }
      ]
    },
    {
      "cell_type": "code",
      "source": [
        ""
      ],
      "metadata": {
        "id": "oyXq-eCc74FW"
      },
      "execution_count": null,
      "outputs": []
    }
  ]
}