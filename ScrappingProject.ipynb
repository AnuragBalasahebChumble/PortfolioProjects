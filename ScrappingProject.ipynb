{
  "nbformat": 4,
  "nbformat_minor": 0,
  "metadata": {
    "colab": {
      "name": "ScrappingProject.ipynb",
      "provenance": [],
      "collapsed_sections": [
        "CWvV19Ym8fkn"
      ],
      "authorship_tag": "ABX9TyOTRtoo7ghUO8lmAL9FL6iJ",
      "include_colab_link": true
    },
    "kernelspec": {
      "name": "python3",
      "display_name": "Python 3"
    },
    "language_info": {
      "name": "python"
    }
  },
  "cells": [
    {
      "cell_type": "markdown",
      "metadata": {
        "id": "view-in-github",
        "colab_type": "text"
      },
      "source": [
        "<a href=\"https://colab.research.google.com/github/AnuragBalasahebChumble/PortfolioProjects/blob/main/ScrappingProject.ipynb\" target=\"_parent\"><img src=\"https://colab.research.google.com/assets/colab-badge.svg\" alt=\"Open In Colab\"/></a>"
      ]
    },
    {
      "cell_type": "markdown",
      "source": [
        "#Scrapping _github's_topics_repo\n"
      ],
      "metadata": {
        "id": "JMYBE6GU8Hnr"
      }
    },
    {
      "cell_type": "markdown",
      "source": [
        "##Pick a website and describe your objective.\n",
        "- We'll scrape from https://github.com/topics\n",
        "- Info we are to scrape is:\n",
        " 1) title, 2)URL, 3)description\n",
        "- We'll scrape top 25 repos on a particular topic."
      ],
      "metadata": {
        "id": "CWvV19Ym8fkn"
      }
    },
    {
      "cell_type": "code",
      "source": [
        ""
      ],
      "metadata": {
        "id": "tDXFCo_W8b6n"
      },
      "execution_count": null,
      "outputs": []
    },
    {
      "cell_type": "markdown",
      "source": [
        "# Let's import requests library.\n",
        "- it is a tool to execute **HTTP methods** using python.\n",
        "\n",
        "- The primary or most commonly-used HTTP methods are **POST, GET, PUT, PATCH, and DELETE.** These methods correspond to create, read, update, and delete (or CRUD) operations, respectively"
      ],
      "metadata": {
        "id": "8AhBijriNVZO"
      }
    },
    {
      "cell_type": "code",
      "source": [
        "!pip install requests --quiet"
      ],
      "metadata": {
        "id": "DyF-V4c4-6na"
      },
      "execution_count": null,
      "outputs": []
    },
    {
      "cell_type": "code",
      "source": [
        "import requests"
      ],
      "metadata": {
        "id": "kXtIQdIT-7do"
      },
      "execution_count": null,
      "outputs": []
    },
    {
      "cell_type": "markdown",
      "source": [
        "Note:\n",
        "-Scrapping has two parts \n",
        "1. You get the web page.\n",
        "2. Then you parse the web page."
      ],
      "metadata": {
        "id": "1kgXsi1xCTYl"
      }
    },
    {
      "cell_type": "code",
      "source": [
        "topics_url = 'https://github.com/topics'"
      ],
      "metadata": {
        "id": "lgxiIm2Y-7gM"
      },
      "execution_count": null,
      "outputs": []
    },
    {
      "cell_type": "code",
      "source": [
        "response = requests.get(topics_url)"
      ],
      "metadata": {
        "id": "oCeY1h9E-7ih"
      },
      "execution_count": null,
      "outputs": []
    },
    {
      "cell_type": "code",
      "source": [
        "type(response)"
      ],
      "metadata": {
        "colab": {
          "base_uri": "https://localhost:8080/"
        },
        "id": "H5CbOtDUaHpj",
        "outputId": "32595e14-aa6a-4232-ccbc-6dfd27e33a7a"
      },
      "execution_count": null,
      "outputs": [
        {
          "output_type": "execute_result",
          "data": {
            "text/plain": [
              "requests.models.Response"
            ]
          },
          "metadata": {},
          "execution_count": 121
        }
      ]
    },
    {
      "cell_type": "markdown",
      "source": [
        "let's check with the **status code**, if between 200to 299, than it means success.\n",
        "\n",
        "1. Informational responses (100–199)\n",
        "2. Successful responses (200–299)\n",
        "3. Redirection messages (300–399)\n",
        "4. Client error responses (400–499)\n",
        "5. Server error responses (500–599)"
      ],
      "metadata": {
        "id": "6j4pXPWaDEF0"
      }
    },
    {
      "cell_type": "code",
      "source": [
        "response.status_code"
      ],
      "metadata": {
        "colab": {
          "base_uri": "https://localhost:8080/"
        },
        "id": "ItZBwEpt-7ku",
        "outputId": "a759194a-d0fa-4b6d-fe85-cf91e8c42e98"
      },
      "execution_count": null,
      "outputs": [
        {
          "output_type": "execute_result",
          "data": {
            "text/plain": [
              "200"
            ]
          },
          "metadata": {},
          "execution_count": 122
        }
      ]
    },
    {
      "cell_type": "markdown",
      "source": [
        "indeed! a sucess."
      ],
      "metadata": {
        "id": "D6xslRPLDV-0"
      }
    },
    {
      "cell_type": "code",
      "source": [
        "len(response.text)"
      ],
      "metadata": {
        "colab": {
          "base_uri": "https://localhost:8080/"
        },
        "id": "omPBZo1lDRjB",
        "outputId": "6a7a627e-e3ad-40e1-ee60-d24fe4678c67"
      },
      "execution_count": null,
      "outputs": [
        {
          "output_type": "execute_result",
          "data": {
            "text/plain": [
              "140939"
            ]
          },
          "metadata": {},
          "execution_count": 123
        }
      ]
    },
    {
      "cell_type": "markdown",
      "source": [
        "- What the output tells us is that the page has 1,40,969 **chachters.** "
      ],
      "metadata": {
        "id": "zZ_WgtTwFXla"
      }
    },
    {
      "cell_type": "code",
      "source": [
        "#let's check top 50 charachters.\n",
        "response.text[:50]"
      ],
      "metadata": {
        "colab": {
          "base_uri": "https://localhost:8080/",
          "height": 35
        },
        "id": "5XgoRFl4FLvC",
        "outputId": "30abe79f-33ff-4a71-aced-b1e5d42c64e2"
      },
      "execution_count": null,
      "outputs": [
        {
          "output_type": "execute_result",
          "data": {
            "text/plain": [
              "'\\n\\n<!DOCTYPE html>\\n<html lang=\"en\" data-color-mode='"
            ],
            "application/vnd.google.colaboratory.intrinsic+json": {
              "type": "string"
            }
          },
          "metadata": {},
          "execution_count": 124
        }
      ]
    },
    {
      "cell_type": "code",
      "source": [
        "type(response.text)"
      ],
      "metadata": {
        "colab": {
          "base_uri": "https://localhost:8080/"
        },
        "id": "osS6d6d-RxSx",
        "outputId": "41238161-b624-40fc-f4e6-f0c62e262d0a"
      },
      "execution_count": null,
      "outputs": [
        {
          "output_type": "execute_result",
          "data": {
            "text/plain": [
              "str"
            ]
          },
          "metadata": {},
          "execution_count": 125
        }
      ]
    },
    {
      "cell_type": "code",
      "source": [
        "with open('webpage.html', 'w') as f:\n",
        "  f.write(response.text)"
      ],
      "metadata": {
        "id": "EyvlitUWFLxZ"
      },
      "execution_count": null,
      "outputs": []
    },
    {
      "cell_type": "markdown",
      "source": [
        "1. As done above it is possible to write a file using python which caontains HTML. Here,  'webpage.html' is an HTML file.\n",
        "2. Now, from this page at 'https://github.com/topics' we have to get the specific information as mentioned in the introductory part of the project namely topic, topic-description & url.\n",
        "3. Here **BeautifulSoup library** comes into play."
      ],
      "metadata": {
        "id": "RYUS-lm6Nnk-"
      }
    },
    {
      "cell_type": "code",
      "source": [
        ""
      ],
      "metadata": {
        "id": "bnzt3oCZFL10"
      },
      "execution_count": null,
      "outputs": []
    },
    {
      "cell_type": "markdown",
      "source": [
        "#Use Beautiful Soup to parse and extract information"
      ],
      "metadata": {
        "id": "3Jeb85ld_AJJ"
      }
    },
    {
      "cell_type": "code",
      "source": [
        "!pip install beautifulsoup4 --quiet"
      ],
      "metadata": {
        "id": "GkEEvaaE_DZ5"
      },
      "execution_count": null,
      "outputs": []
    },
    {
      "cell_type": "code",
      "source": [
        "from bs4 import BeautifulSoup "
      ],
      "metadata": {
        "id": "CpaS0odV_HGn"
      },
      "execution_count": null,
      "outputs": []
    },
    {
      "cell_type": "code",
      "source": [
        "doc = BeautifulSoup(response.text, 'html.parser')"
      ],
      "metadata": {
        "id": "83uIUKP3_HJU"
      },
      "execution_count": null,
      "outputs": []
    },
    {
      "cell_type": "code",
      "source": [
        "len(doc)"
      ],
      "metadata": {
        "colab": {
          "base_uri": "https://localhost:8080/"
        },
        "id": "fxtWKfzX_HWH",
        "outputId": "27eab748-6edc-43a3-d60b-fd5f3d30b200"
      },
      "execution_count": null,
      "outputs": [
        {
          "output_type": "execute_result",
          "data": {
            "text/plain": [
              "47"
            ]
          },
          "metadata": {},
          "execution_count": 130
        }
      ]
    },
    {
      "cell_type": "code",
      "source": [
        "type(doc)"
      ],
      "metadata": {
        "colab": {
          "base_uri": "https://localhost:8080/"
        },
        "id": "2vxrd0PkRR6b",
        "outputId": "d9b7e2ca-97b7-4fb9-d511-3ca7e0cb9f2e"
      },
      "execution_count": null,
      "outputs": [
        {
          "output_type": "execute_result",
          "data": {
            "text/plain": [
              "bs4.BeautifulSoup"
            ]
          },
          "metadata": {},
          "execution_count": 131
        }
      ]
    },
    {
      "cell_type": "code",
      "source": [
        "doc.is_xml"
      ],
      "metadata": {
        "colab": {
          "base_uri": "https://localhost:8080/"
        },
        "id": "iY24xkqMWU6M",
        "outputId": "4fc6d019-12df-45c5-a353-147c0f2f3368"
      },
      "execution_count": null,
      "outputs": [
        {
          "output_type": "execute_result",
          "data": {
            "text/plain": [
              "False"
            ]
          },
          "metadata": {},
          "execution_count": 132
        }
      ]
    },
    {
      "cell_type": "code",
      "source": [
        "# first arguement is asking for html 'p' tags, and second for specific class of p tags. \n",
        "topic_titles = doc.find_all('p', {'class':\"f3 lh-condensed mb-0 mt-1 Link--primary\"})"
      ],
      "metadata": {
        "id": "LYAFIOPLRVCP"
      },
      "execution_count": null,
      "outputs": []
    },
    {
      "cell_type": "markdown",
      "source": [
        "- **find_all()** returns a list object, with the asked information in it."
      ],
      "metadata": {
        "id": "z3af39THXPDn"
      }
    },
    {
      "cell_type": "code",
      "source": [
        "topic_titles[:3]"
      ],
      "metadata": {
        "colab": {
          "base_uri": "https://localhost:8080/"
        },
        "id": "SmOIiLmwRVEm",
        "outputId": "0ad43e00-8a54-4ac5-df1b-5e742adc3c0d"
      },
      "execution_count": null,
      "outputs": [
        {
          "output_type": "execute_result",
          "data": {
            "text/plain": [
              "[<p class=\"f3 lh-condensed mb-0 mt-1 Link--primary\">3D</p>,\n",
              " <p class=\"f3 lh-condensed mb-0 mt-1 Link--primary\">Ajax</p>,\n",
              " <p class=\"f3 lh-condensed mb-0 mt-1 Link--primary\">Algorithm</p>]"
            ]
          },
          "metadata": {},
          "execution_count": 134
        }
      ]
    },
    {
      "cell_type": "code",
      "source": [
        "topic_description_tags = doc.find_all('p', {'class':\"f5 color-fg-muted mb-0 mt-1\"})"
      ],
      "metadata": {
        "id": "icwWUItaRVG6"
      },
      "execution_count": null,
      "outputs": []
    },
    {
      "cell_type": "code",
      "source": [
        "type(topic_description_tags)"
      ],
      "metadata": {
        "colab": {
          "base_uri": "https://localhost:8080/"
        },
        "id": "Ps1q5-1GhHut",
        "outputId": "f715380f-df61-48a2-a0f3-253f6bda4122"
      },
      "execution_count": null,
      "outputs": [
        {
          "output_type": "execute_result",
          "data": {
            "text/plain": [
              "bs4.element.ResultSet"
            ]
          },
          "metadata": {},
          "execution_count": 136
        }
      ]
    },
    {
      "cell_type": "code",
      "source": [
        "topic_description_tags[:3]"
      ],
      "metadata": {
        "colab": {
          "base_uri": "https://localhost:8080/"
        },
        "id": "ADHPsn1cZulc",
        "outputId": "65120244-8624-4e7c-b9ec-21175e8dc45a"
      },
      "execution_count": null,
      "outputs": [
        {
          "output_type": "execute_result",
          "data": {
            "text/plain": [
              "[<p class=\"f5 color-fg-muted mb-0 mt-1\">\n",
              "           3D modeling is the process of virtually developing the surface and structure of a 3D object.\n",
              "         </p>, <p class=\"f5 color-fg-muted mb-0 mt-1\">\n",
              "           Ajax is a technique for creating interactive web applications.\n",
              "         </p>, <p class=\"f5 color-fg-muted mb-0 mt-1\">\n",
              "           Algorithms are self-contained sequences that carry out a variety of tasks.\n",
              "         </p>]"
            ]
          },
          "metadata": {},
          "execution_count": 137
        }
      ]
    },
    {
      "cell_type": "markdown",
      "source": [
        "Note:\n",
        "1. Now, we have topic names\n",
        "2. We also have descriptions.\n",
        "3. Let's scrape url from the html page."
      ],
      "metadata": {
        "id": "qTkqPb7lnvkL"
      }
    },
    {
      "cell_type": "code",
      "source": [
        "topic_description_tags[0]"
      ],
      "metadata": {
        "colab": {
          "base_uri": "https://localhost:8080/"
        },
        "id": "mDd_RLeKZunu",
        "outputId": "4ea8c1e0-777f-4961-8045-912271080c1e"
      },
      "execution_count": null,
      "outputs": [
        {
          "output_type": "execute_result",
          "data": {
            "text/plain": [
              "<p class=\"f5 color-fg-muted mb-0 mt-1\">\n",
              "          3D modeling is the process of virtually developing the surface and structure of a 3D object.\n",
              "        </p>"
            ]
          },
          "metadata": {},
          "execution_count": 138
        }
      ]
    },
    {
      "cell_type": "code",
      "source": [
        "doc.find_all('a', {'class':\"no-underline flex-1 d-flex flex-column\"})[0]\n"
      ],
      "metadata": {
        "colab": {
          "base_uri": "https://localhost:8080/"
        },
        "id": "XnD3XJJZZup8",
        "outputId": "c183d64c-0703-4fd5-85e3-9b91e1b14cfd"
      },
      "execution_count": null,
      "outputs": [
        {
          "output_type": "execute_result",
          "data": {
            "text/plain": [
              "<a class=\"no-underline flex-1 d-flex flex-column\" href=\"/topics/3d\">\n",
              "<p class=\"f3 lh-condensed mb-0 mt-1 Link--primary\">3D</p>\n",
              "<p class=\"f5 color-fg-muted mb-0 mt-1\">\n",
              "          3D modeling is the process of virtually developing the surface and structure of a 3D object.\n",
              "        </p>\n",
              "</a>"
            ]
          },
          "metadata": {},
          "execution_count": 139
        }
      ]
    },
    {
      "cell_type": "code",
      "source": [
        "topic_description_tags[0].parent"
      ],
      "metadata": {
        "colab": {
          "base_uri": "https://localhost:8080/"
        },
        "id": "3dq-bVdS2avR",
        "outputId": "505bbbe1-c592-4f7b-d755-64a9cc4409e3"
      },
      "execution_count": null,
      "outputs": [
        {
          "output_type": "execute_result",
          "data": {
            "text/plain": [
              "<a class=\"no-underline flex-1 d-flex flex-column\" href=\"/topics/3d\">\n",
              "<p class=\"f3 lh-condensed mb-0 mt-1 Link--primary\">3D</p>\n",
              "<p class=\"f5 color-fg-muted mb-0 mt-1\">\n",
              "          3D modeling is the process of virtually developing the surface and structure of a 3D object.\n",
              "        </p>\n",
              "</a>"
            ]
          },
          "metadata": {},
          "execution_count": 140
        }
      ]
    },
    {
      "cell_type": "code",
      "source": [
        "topic_description_tags[0].parent['href']"
      ],
      "metadata": {
        "colab": {
          "base_uri": "https://localhost:8080/",
          "height": 35
        },
        "id": "B4Uy9IqY4mr7",
        "outputId": "c72185ab-a891-4c5a-8ed0-191804456cf9"
      },
      "execution_count": null,
      "outputs": [
        {
          "output_type": "execute_result",
          "data": {
            "text/plain": [
              "'/topics/3d'"
            ],
            "application/vnd.google.colaboratory.intrinsic+json": {
              "type": "string"
            }
          },
          "metadata": {},
          "execution_count": 141
        }
      ]
    },
    {
      "cell_type": "markdown",
      "source": [
        "##Note:\n",
        "- you should be able to fetch the value as an key value pair, if the data type is **\"bs4.element.Tag\"**"
      ],
      "metadata": {
        "id": "O3fvwHZjj9nA"
      }
    },
    {
      "cell_type": "code",
      "source": [
        "type(topic_description_tags[0].parent)"
      ],
      "metadata": {
        "colab": {
          "base_uri": "https://localhost:8080/"
        },
        "id": "a_JNqKmahcAt",
        "outputId": "5f3215eb-3085-4335-e497-7942993a651d"
      },
      "execution_count": null,
      "outputs": [
        {
          "output_type": "execute_result",
          "data": {
            "text/plain": [
              "bs4.element.Tag"
            ]
          },
          "metadata": {},
          "execution_count": 142
        }
      ]
    },
    {
      "cell_type": "code",
      "source": [
        "\"https://github.com/topic/\" + topic_description_tags[0].parent['href']"
      ],
      "metadata": {
        "colab": {
          "base_uri": "https://localhost:8080/",
          "height": 35
        },
        "id": "9qCRBoP44muT",
        "outputId": "9cccfdf4-3161-4346-935d-3d1b705c1147"
      },
      "execution_count": null,
      "outputs": [
        {
          "output_type": "execute_result",
          "data": {
            "text/plain": [
              "'https://github.com/topic//topics/3d'"
            ],
            "application/vnd.google.colaboratory.intrinsic+json": {
              "type": "string"
            }
          },
          "metadata": {},
          "execution_count": 143
        }
      ]
    },
    {
      "cell_type": "code",
      "source": [
        ""
      ],
      "metadata": {
        "id": "Z0TlU7ws5whl"
      },
      "execution_count": null,
      "outputs": []
    },
    {
      "cell_type": "markdown",
      "source": [
        "- So, let's start creating list of our needs.\n",
        "1. list of titles"
      ],
      "metadata": {
        "id": "0QLqFkkc5udL"
      }
    },
    {
      "cell_type": "code",
      "source": [
        "topic_titles_list = []\n",
        "for title in topic_titles:\n",
        "  topic_titles_list.append(title.text)\n",
        "topic_titles_list[:7]"
      ],
      "metadata": {
        "colab": {
          "base_uri": "https://localhost:8080/"
        },
        "id": "hBJ2S2YI4mwz",
        "outputId": "c1475759-de9c-4711-e7ce-a156c43eb799"
      },
      "execution_count": null,
      "outputs": [
        {
          "output_type": "execute_result",
          "data": {
            "text/plain": [
              "['3D', 'Ajax', 'Algorithm', 'Amp', 'Android', 'Angular', 'Ansible']"
            ]
          },
          "metadata": {},
          "execution_count": 144
        }
      ]
    },
    {
      "cell_type": "markdown",
      "source": [
        "2. list of descriptions."
      ],
      "metadata": {
        "id": "OA_vlH8v6ccq"
      }
    },
    {
      "cell_type": "code",
      "source": [
        "topic_description_tags[0].text.strip()"
      ],
      "metadata": {
        "colab": {
          "base_uri": "https://localhost:8080/",
          "height": 35
        },
        "id": "-x29Ih_b4mzJ",
        "outputId": "6b00c8a6-dcdf-43c7-d0e3-dfedcd00dd9c"
      },
      "execution_count": null,
      "outputs": [
        {
          "output_type": "execute_result",
          "data": {
            "text/plain": [
              "'3D modeling is the process of virtually developing the surface and structure of a 3D object.'"
            ],
            "application/vnd.google.colaboratory.intrinsic+json": {
              "type": "string"
            }
          },
          "metadata": {},
          "execution_count": 145
        }
      ]
    },
    {
      "cell_type": "code",
      "source": [
        "topic_description_tags_list = []\n",
        "\n",
        "for description in topic_description_tags:\n",
        "  topic_description_tags_list.append(description.text.strip())\n",
        "topic_description_tags_list[:2]"
      ],
      "metadata": {
        "colab": {
          "base_uri": "https://localhost:8080/"
        },
        "id": "1a_oaSc14m5l",
        "outputId": "d499b41a-65a3-432b-e6b7-e1bc6551b8c0"
      },
      "execution_count": null,
      "outputs": [
        {
          "output_type": "execute_result",
          "data": {
            "text/plain": [
              "['3D modeling is the process of virtually developing the surface and structure of a 3D object.',\n",
              " 'Ajax is a technique for creating interactive web applications.']"
            ]
          },
          "metadata": {},
          "execution_count": 146
        }
      ]
    },
    {
      "cell_type": "markdown",
      "source": [
        "3. url list"
      ],
      "metadata": {
        "id": "4vmIouLI83iR"
      }
    },
    {
      "cell_type": "code",
      "source": [
        "url_list = []\n",
        "for url in topic_description_tags:\n",
        "  url_list.append(\"https://github.com/\" + url.parent['href'])\n",
        "url_list[:3]"
      ],
      "metadata": {
        "colab": {
          "base_uri": "https://localhost:8080/"
        },
        "id": "fCSzl7r_4m75",
        "outputId": "de3a567c-bf80-4b26-e727-5fa7a5681ef7"
      },
      "execution_count": null,
      "outputs": [
        {
          "output_type": "execute_result",
          "data": {
            "text/plain": [
              "['https://github.com//topics/3d',\n",
              " 'https://github.com//topics/ajax',\n",
              " 'https://github.com//topics/algorithm']"
            ]
          },
          "metadata": {},
          "execution_count": 147
        }
      ]
    },
    {
      "cell_type": "code",
      "source": [
        ""
      ],
      "metadata": {
        "id": "CCMEzJT14m-b"
      },
      "execution_count": null,
      "outputs": []
    },
    {
      "cell_type": "markdown",
      "source": [
        "# To create a csv file from the list's that we have genrated, we'll make use of DataFrame object."
      ],
      "metadata": {
        "id": "egjRdB92ZS4c"
      }
    },
    {
      "cell_type": "code",
      "source": [
        "!pip install pandas --quiet"
      ],
      "metadata": {
        "id": "u96z0t81LGzH"
      },
      "execution_count": null,
      "outputs": []
    },
    {
      "cell_type": "code",
      "source": [
        "import pandas as pd"
      ],
      "metadata": {
        "id": "U9GPXmxsLG1f"
      },
      "execution_count": null,
      "outputs": []
    },
    {
      "cell_type": "code",
      "source": [
        "topic_dict = {\n",
        "    'title': topic_titles_list,\n",
        "    'description': topic_description_tags_list,\n",
        "    'url': url_list\n",
        "}"
      ],
      "metadata": {
        "id": "GF2cPz7OLPAu"
      },
      "execution_count": null,
      "outputs": []
    },
    {
      "cell_type": "code",
      "source": [
        "df = pd.DataFrame(topic_dict)"
      ],
      "metadata": {
        "id": "rRSCBqqXLTaf"
      },
      "execution_count": null,
      "outputs": []
    },
    {
      "cell_type": "code",
      "source": [
        "df.head(3)"
      ],
      "metadata": {
        "colab": {
          "base_uri": "https://localhost:8080/",
          "height": 143
        },
        "id": "T21T_VdlLTdG",
        "outputId": "651cb6e4-7325-4161-c6f3-c996bc250d43"
      },
      "execution_count": null,
      "outputs": [
        {
          "output_type": "execute_result",
          "data": {
            "text/plain": [
              "       title                                        description  \\\n",
              "0         3D  3D modeling is the process of virtually develo...   \n",
              "1       Ajax  Ajax is a technique for creating interactive w...   \n",
              "2  Algorithm  Algorithms are self-contained sequences that c...   \n",
              "\n",
              "                                    url  \n",
              "0         https://github.com//topics/3d  \n",
              "1       https://github.com//topics/ajax  \n",
              "2  https://github.com//topics/algorithm  "
            ],
            "text/html": [
              "\n",
              "  <div id=\"df-3d6251f1-aa7a-4ed1-9322-f02c629138cc\">\n",
              "    <div class=\"colab-df-container\">\n",
              "      <div>\n",
              "<style scoped>\n",
              "    .dataframe tbody tr th:only-of-type {\n",
              "        vertical-align: middle;\n",
              "    }\n",
              "\n",
              "    .dataframe tbody tr th {\n",
              "        vertical-align: top;\n",
              "    }\n",
              "\n",
              "    .dataframe thead th {\n",
              "        text-align: right;\n",
              "    }\n",
              "</style>\n",
              "<table border=\"1\" class=\"dataframe\">\n",
              "  <thead>\n",
              "    <tr style=\"text-align: right;\">\n",
              "      <th></th>\n",
              "      <th>title</th>\n",
              "      <th>description</th>\n",
              "      <th>url</th>\n",
              "    </tr>\n",
              "  </thead>\n",
              "  <tbody>\n",
              "    <tr>\n",
              "      <th>0</th>\n",
              "      <td>3D</td>\n",
              "      <td>3D modeling is the process of virtually develo...</td>\n",
              "      <td>https://github.com//topics/3d</td>\n",
              "    </tr>\n",
              "    <tr>\n",
              "      <th>1</th>\n",
              "      <td>Ajax</td>\n",
              "      <td>Ajax is a technique for creating interactive w...</td>\n",
              "      <td>https://github.com//topics/ajax</td>\n",
              "    </tr>\n",
              "    <tr>\n",
              "      <th>2</th>\n",
              "      <td>Algorithm</td>\n",
              "      <td>Algorithms are self-contained sequences that c...</td>\n",
              "      <td>https://github.com//topics/algorithm</td>\n",
              "    </tr>\n",
              "  </tbody>\n",
              "</table>\n",
              "</div>\n",
              "      <button class=\"colab-df-convert\" onclick=\"convertToInteractive('df-3d6251f1-aa7a-4ed1-9322-f02c629138cc')\"\n",
              "              title=\"Convert this dataframe to an interactive table.\"\n",
              "              style=\"display:none;\">\n",
              "        \n",
              "  <svg xmlns=\"http://www.w3.org/2000/svg\" height=\"24px\"viewBox=\"0 0 24 24\"\n",
              "       width=\"24px\">\n",
              "    <path d=\"M0 0h24v24H0V0z\" fill=\"none\"/>\n",
              "    <path d=\"M18.56 5.44l.94 2.06.94-2.06 2.06-.94-2.06-.94-.94-2.06-.94 2.06-2.06.94zm-11 1L8.5 8.5l.94-2.06 2.06-.94-2.06-.94L8.5 2.5l-.94 2.06-2.06.94zm10 10l.94 2.06.94-2.06 2.06-.94-2.06-.94-.94-2.06-.94 2.06-2.06.94z\"/><path d=\"M17.41 7.96l-1.37-1.37c-.4-.4-.92-.59-1.43-.59-.52 0-1.04.2-1.43.59L10.3 9.45l-7.72 7.72c-.78.78-.78 2.05 0 2.83L4 21.41c.39.39.9.59 1.41.59.51 0 1.02-.2 1.41-.59l7.78-7.78 2.81-2.81c.8-.78.8-2.07 0-2.86zM5.41 20L4 18.59l7.72-7.72 1.47 1.35L5.41 20z\"/>\n",
              "  </svg>\n",
              "      </button>\n",
              "      \n",
              "  <style>\n",
              "    .colab-df-container {\n",
              "      display:flex;\n",
              "      flex-wrap:wrap;\n",
              "      gap: 12px;\n",
              "    }\n",
              "\n",
              "    .colab-df-convert {\n",
              "      background-color: #E8F0FE;\n",
              "      border: none;\n",
              "      border-radius: 50%;\n",
              "      cursor: pointer;\n",
              "      display: none;\n",
              "      fill: #1967D2;\n",
              "      height: 32px;\n",
              "      padding: 0 0 0 0;\n",
              "      width: 32px;\n",
              "    }\n",
              "\n",
              "    .colab-df-convert:hover {\n",
              "      background-color: #E2EBFA;\n",
              "      box-shadow: 0px 1px 2px rgba(60, 64, 67, 0.3), 0px 1px 3px 1px rgba(60, 64, 67, 0.15);\n",
              "      fill: #174EA6;\n",
              "    }\n",
              "\n",
              "    [theme=dark] .colab-df-convert {\n",
              "      background-color: #3B4455;\n",
              "      fill: #D2E3FC;\n",
              "    }\n",
              "\n",
              "    [theme=dark] .colab-df-convert:hover {\n",
              "      background-color: #434B5C;\n",
              "      box-shadow: 0px 1px 3px 1px rgba(0, 0, 0, 0.15);\n",
              "      filter: drop-shadow(0px 1px 2px rgba(0, 0, 0, 0.3));\n",
              "      fill: #FFFFFF;\n",
              "    }\n",
              "  </style>\n",
              "\n",
              "      <script>\n",
              "        const buttonEl =\n",
              "          document.querySelector('#df-3d6251f1-aa7a-4ed1-9322-f02c629138cc button.colab-df-convert');\n",
              "        buttonEl.style.display =\n",
              "          google.colab.kernel.accessAllowed ? 'block' : 'none';\n",
              "\n",
              "        async function convertToInteractive(key) {\n",
              "          const element = document.querySelector('#df-3d6251f1-aa7a-4ed1-9322-f02c629138cc');\n",
              "          const dataTable =\n",
              "            await google.colab.kernel.invokeFunction('convertToInteractive',\n",
              "                                                     [key], {});\n",
              "          if (!dataTable) return;\n",
              "\n",
              "          const docLinkHtml = 'Like what you see? Visit the ' +\n",
              "            '<a target=\"_blank\" href=https://colab.research.google.com/notebooks/data_table.ipynb>data table notebook</a>'\n",
              "            + ' to learn more about interactive tables.';\n",
              "          element.innerHTML = '';\n",
              "          dataTable['output_type'] = 'display_data';\n",
              "          await google.colab.output.renderOutput(dataTable, element);\n",
              "          const docLink = document.createElement('div');\n",
              "          docLink.innerHTML = docLinkHtml;\n",
              "          element.appendChild(docLink);\n",
              "        }\n",
              "      </script>\n",
              "    </div>\n",
              "  </div>\n",
              "  "
            ]
          },
          "metadata": {},
          "execution_count": 152
        }
      ]
    },
    {
      "cell_type": "code",
      "source": [
        ""
      ],
      "metadata": {
        "id": "mOmkeFERLPDK"
      },
      "execution_count": null,
      "outputs": []
    },
    {
      "cell_type": "markdown",
      "source": [
        "#Create CSV file(s) with the extracted information"
      ],
      "metadata": {
        "id": "FfkpQYcD_Hrn"
      }
    },
    {
      "cell_type": "code",
      "source": [
        "df.to_csv('topics_csv', index=None)"
      ],
      "metadata": {
        "id": "GVe7htlS_ImB"
      },
      "execution_count": null,
      "outputs": []
    }
  ]
}